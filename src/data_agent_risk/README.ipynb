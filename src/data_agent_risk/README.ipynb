{
 "cells": [
  {
   "cell_type": "markdown",
   "id": "279f8f26-a67c-4471-8d83-f27aae936cd4",
   "metadata": {},
   "source": [
    "---"
   ]
  },
  {
   "cell_type": "markdown",
   "id": "49ec082c-5cc2-4f71-a024-0a3d3ba3a54d",
   "metadata": {},
   "source": [
    "# <center> LangGraph快速入门与Agent开发实战\n",
    "# <center> Part 2.LangGraph智能体开发与部署上线流程"
   ]
  },
  {
   "cell_type": "markdown",
   "id": "327c1861-e33d-4334-84b3-2d21d6cfe27e",
   "metadata": {},
   "source": [
    "## 一、LangGraph开发必备工具套件回顾"
   ]
  },
  {
   "cell_type": "markdown",
   "id": "6792ecba-a128-4240-9e5a-42fda9e4fed4",
   "metadata": {},
   "source": [
    "&emsp;&emsp;在对LangGraph有了一定的基础了解之后，对于开发者来说，还需要进一步了解和掌握LangGraph必备的开发者套件。分别是LangGraph运行监控框架LangSmith、LangGraph图结构可视化与调试框架LangGraph Studio和LangGraph服务部署工具LangGraph Cli。可以说这些开发工具套件，是真正推动LangGraph的企业级应用开发效率大幅提升的关键。同时监控、调试和部署工具，也是全新一代企业级Agent开发框架的必备工具，也是开发者必须要掌握的基础工具。"
   ]
  },
  {
   "cell_type": "markdown",
   "id": "94841ccf-e961-41c5-8787-abf3afecc755",
   "metadata": {},
   "source": [
    "### 1. LangGraph运行监控框架：LangSmith"
   ]
  },
  {
   "cell_type": "markdown",
   "id": "a31224bd-d6be-4f92-90f5-b856c3266901",
   "metadata": {},
   "source": [
    "> LangSmith官网地址：https://docs.smith.langchain.com/"
   ]
  },
  {
   "cell_type": "markdown",
   "id": "369d916c-aba0-4a54-9691-0530f4c0c6da",
   "metadata": {},
   "source": [
    "&emsp;&emsp;LangSmith 是一款用于构建、调试、可视化和评估 LLM 工作流的全生命周期开发平台。它聚焦的不是模型训练，而是我们在构建 AI 应用（尤其是多工具 Agent、LangChain/Graph）时的「可视化调试」、「性能评估」与「运维监控」。"
   ]
  },
  {
   "cell_type": "markdown",
   "id": "897c2a5a-7800-477c-b90c-23b7239e365f",
   "metadata": {},
   "source": [
    "<center><img src=\"https://ml2022.oss-cn-hangzhou.aliyuncs.com/img/image-20250626130104156.png\" alt=\"image-20250626130104156\" style=\"zoom:50%;\" />"
   ]
  },
  {
   "cell_type": "markdown",
   "id": "40291e51-5589-4c8c-9226-4068ef9308c8",
   "metadata": {},
   "source": [
    "| 功能类别                           | 描述                                   | 场景                   |\n",
    "| ------------------------------ | ------------------------------------ | -------------------- |\n",
    "| 🧪 调试追踪（Trace Debugging）       | 可视化展示每个 LLM 调用、工具调用、Prompt、输入输出      | Agent 调试、Graph 调用链分析 |\n",
    "| 📊 评估（Evaluation）              | 支持自动评估多个输入样本的回答质量，可自定义评分维度           | 批量测试 LLM 表现、A/B 对比   |\n",
    "| 🧵 会话记录（Sessions / Runs）       | 每次 chain 或 agent 的运行都会被记录为一个 Run，可溯源 | Agent 问题诊断、用户问题分析    |\n",
    "| 🔧 Prompt 管理器（Prompt Registry） | 保存、版本控制、调用历史 prompt                  | 多版本 prompt 迭代测试      |\n",
    "| 📈 流量监控（Telemetry）             | 实时查看运行次数、错误率、响应时间等                   | 在生产环境中监控 Agent 质量    |\n",
    "| 📁 Dataset 管理                  | 管理自定义测试集样本，支持自动化评估                   | 微调前评估、数据对比实验         |\n",
    "| 📜 LangGraph 可视化               | 对 LangGraph 中每个节点运行情况进行实时可视化展示       | Graph 执行追踪           |\n"
   ]
  },
  {
   "cell_type": "markdown",
   "id": "13067acd-6cef-45e5-a2c9-67d4c6438dd3",
   "metadata": {},
   "source": [
    "### 2. LangGraph图结构可视化与调试框架：LangGraph Studio"
   ]
  },
  {
   "cell_type": "markdown",
   "id": "259dfba3-d867-438a-ae07-65e2e4c3a200",
   "metadata": {},
   "source": [
    "> LangGraph Studio官网地址：https://www.langgraph.dev/studio"
   ]
  },
  {
   "cell_type": "markdown",
   "id": "4a6cd36a-02ca-40a2-9dcb-e4de42c3bd7b",
   "metadata": {},
   "source": [
    "&emsp;&emsp;LangGraph Studio 是一个用于可视化构建、测试、分享和部署智能体流程图的图形化 IDE + 运行平台。"
   ]
  },
  {
   "cell_type": "markdown",
   "id": "3be1a059-9e23-4f12-9dd9-43c9bfacc4f8",
   "metadata": {},
   "source": [
    "<center><img src=\"https://ml2022.oss-cn-hangzhou.aliyuncs.com/img/image-20250626130624364.png\" alt=\"image-20250626130624364\" style=\"zoom: 50%;\" />"
   ]
  },
  {
   "cell_type": "markdown",
   "id": "539fed74-2533-4631-91a2-9bbb7c56e420",
   "metadata": {},
   "source": [
    "| 功能模块            | 说明                                        | 应用场景             |\n",
    "| --------------- | ----------------------------------------- | ---------------- |\n",
    "| 🧩 Graph 编辑器    | 以拖拽方式创建节点（工具、模型、Router）并连接                | 零代码构建 LangGraph  |\n",
    "| 🔍 节点配置器        | 每个节点可配置 LLM、工具、Router 逻辑、Memory           | 灵活定制 Agent 控制流   |\n",
    "| ▶️ 即时测试         | 输入 prompt 可在浏览器中运行整个图                     | 实时测试执行结果         |\n",
    "| 💾 云端保存 / 分享    | 将构建的 Graph 保存为公共 URL / 私人项目               | 团队协作，Demo 分享     |\n",
    "| 📎 Tool 插件管理    | 可连接自定义工具（MCP）、HTTP API、Python 工具          | 插件式扩展 Agent 功能   |\n",
    "| 🔁 Router 分支节点  | 创建条件分支，支持 if/else 路由                      | 决策型智能体           |\n",
    "| 📦 上传文档 / 多模态   | 可以上传文件（如 PDF）并嵌入进图中处理流程                   | RAG 结构、OCR、图文问答等 |\n",
    "| 🧠 Prompt 输入/预览 | 编辑 prompt 并观察其运行效果                        | Prompt 工程调试      |\n",
    "| 📤 一键部署         | 将 Graph 部署为可被 Agent Chat UI 使用的 Assistant | 快速集成到前端          |"
   ]
  },
  {
   "cell_type": "markdown",
   "id": "a2a3133c-14b7-4c06-a223-b038f997e741",
   "metadata": {},
   "source": [
    "### 3. LangGraph服务部署工具：LangGraph Cli"
   ]
  },
  {
   "cell_type": "markdown",
   "id": "8480fe38-4bf6-4e99-80e4-8a32b3364a92",
   "metadata": {},
   "source": [
    "> LangGraph Cli官网地址：https://www.langgraph.dev/ （需要代理环境）"
   ]
  },
  {
   "cell_type": "markdown",
   "id": "6b955f38-21c3-42ec-88e3-ca872329d98f",
   "metadata": {},
   "source": [
    "&emsp;&emsp;LangGraph CLI 是用于本地启动、调试、测试和托管 LangGraph 智能体图的开发者命令行工具。"
   ]
  },
  {
   "cell_type": "markdown",
   "id": "f9a88288-23a3-49bf-80dc-0b34b8a42876",
   "metadata": {},
   "source": [
    "<center><img src=\"https://ml2022.oss-cn-hangzhou.aliyuncs.com/img/image-20250626131252066.png\" alt=\"image-20250626131252066\" style=\"zoom:50%;\" />"
   ]
  },
  {
   "cell_type": "markdown",
   "id": "360311c5-f9b2-46c5-8cec-fd928ec37a5f",
   "metadata": {},
   "source": [
    "| 功能类别               | 命令示例                                                  | 说明                                      |\n",
    "| ------------------ | ----------------------------------------------------- | --------------------------------------- |\n",
    "| ✅ 启动 Graph 服务      | `langgraph dev`                                       | 启动 Graph 的开发服务器，供前端（如 Agent Chat UI）调用  |\n",
    "| 🧪 测试 Graph 输入     | `langgraph run graph:graph --input '{\"input\": \"你好\"}'` | 本地 CLI 输入测试，输出结果                        |\n",
    "| 🧭 管理项目结构          | `langgraph init`                                      | 初始化一个标准 Graph 项目目录结构                    |\n",
    "| 📦 部署 Graph（未来）    | `langgraph deploy`（预留）                                | 发布 graph 至 LangGraph 云端（已对接 Studio）     |\n",
    "| 🧱 显示 Assistant 列表 | `langgraph list`                                      | 显示当前 graph 中有哪些 assistant（即 entrypoint） |\n",
    "| 🔄 重载运行时           | 自动热重载                                                 | 修改 `graph.py` 时，`dev` 模式自动重启生效          |"
   ]
  },
  {
   "cell_type": "markdown",
   "id": "fa490617-aafe-4f3d-87fe-8fbff3383394",
   "metadata": {},
   "source": [
    "而一旦应用成功部署上线，LangGraph Cli还会非常贴心的提供后端接口说明文档："
   ]
  },
  {
   "cell_type": "markdown",
   "id": "eea16493-9a92-4f89-b42e-9a9f732dd93c",
   "metadata": {},
   "source": [
    "<center><img src=\"https://ml2022.oss-cn-hangzhou.aliyuncs.com/img/image-20250626132044152.png\" alt=\"image-20250626132044152\" style=\"zoom:50%;\" />"
   ]
  },
  {
   "cell_type": "markdown",
   "id": "2c100a63-1126-477b-8c67-793808ce42a2",
   "metadata": {},
   "source": [
    "而对于LangGraph构建的智能体，除了能够本地部署外，官方也提供了云托管服务，借助LangGraph Platform，开发者可以将构建的智能体 Graph部署到云端，并允许公开访问，同时支持支持长时间运行、文件上传、外部 API 调用、Studio 集成等功能。"
   ]
  },
  {
   "cell_type": "markdown",
   "id": "81852c99-8d9a-40b0-8e2a-9dd550da7109",
   "metadata": {},
   "source": [
    "### 4. LangGraph Agent前端可视化工具：Agent Chat UI"
   ]
  },
  {
   "cell_type": "markdown",
   "id": "b4797dab-82ca-4ffe-aacc-95da822d8039",
   "metadata": {},
   "source": [
    "&emsp;&emsp;Agent Chat UI 是 LangGraph/LangChain 官方提供的多智能体前端对话面板，用于与后端 Agent（Graph 或 Chain）进行实时互动，支持上传文件、多工具协同、结构化输出、多轮对话、调试标注等功能。"
   ]
  },
  {
   "cell_type": "markdown",
   "id": "308a0298-5bb1-4e03-a595-3792455c78f2",
   "metadata": {},
   "source": [
    "> Agent Chat UI官网地址：https://langchain-ai.github.io/langgraph/agents/ui/"
   ]
  },
  {
   "cell_type": "markdown",
   "id": "74b62896-13c2-44cb-b1a8-6e656d2dd7f1",
   "metadata": {},
   "source": [
    "<center><img src=\"https://ml2022.oss-cn-hangzhou.aliyuncs.com/img/39f6cd74c2d5ff2401fd511e9aa9b42.png\" alt=\"39f6cd74c2d5ff2401fd511e9aa9b42\" style=\"zoom:33%;\" />"
   ]
  },
  {
   "cell_type": "markdown",
   "id": "d01656a1-b539-4b11-ab84-1a05d7cb8324",
   "metadata": {},
   "source": [
    "| 功能模块                  | 描述                            | 应用场景                       |\n",
    "| --------------------- | ----------------------------- | -------------------------- |\n",
    "| 💬 多轮对话框              | 类似 ChatGPT 的输入区域，支持多轮上下文      | 用户提问，Agent 回复              |\n",
    "| 🛠 工具调用轨迹显示           | 显示每个调用的工具、参数、结果（结构化）          | Agent 推理透明化                |\n",
    "| 📄 上传 PDF / 图片        | 支持上传文档、图片、嵌入多模态输入             | RAG、OCR、图像问答               |\n",
    "| 📁 文件面板               | 可查看上传历史文件、删除、重新引用             | 管理文档输入                     |\n",
    "| 🧭 Assistant 切换       | 支持切换不同 Assistant（Graph entry） | 一键切换模型能力（如 math / weather） |\n",
    "| 🧩 插件支持               | 与 MCP 工具、LangGraph 图打通        | 工具式 Agent 调用               |\n",
    "| 🔍 调试视图               | 显示每轮 Agent 的思维过程和中间状态         | Prompt 调试、模型行为分析           |\n",
    "| 🌐 云部署支持              | 支持接入远端 Graph API（如 dev 服务器）   | 前后端分离部署                    |\n",
    "| 🧪 与 LangSmith 对接（可选） | 若后端启用 tracing，可同步显示运行 trace   | 调试闭环                       |"
   ]
  },
  {
   "cell_type": "markdown",
   "id": "a4a0a02b-3cb0-4fa4-9dc0-cbe52f36758f",
   "metadata": {},
   "source": [
    "### 5. LangGraph内置工具库与MCP调用组件"
   ]
  },
  {
   "cell_type": "markdown",
   "id": "661fa4e3-4fcc-4430-a2c2-0942f75ac759",
   "metadata": {},
   "source": [
    "&emsp;&emsp;除了有上述非常多实用的开发工具外，LangGraph还全面兼容LangChain的内置工具集。LangChain自诞生之初就为开发者提供了非常多种类各异的、封装好的实用工具，历经几年发展时间，目前LangChain已经拥有了数以百计的内置实用工具，包括网络搜索工具、浏览器自动化工具、Python代码解释器、SQL代码解释器等。而作为LangChain同系框架，LangGraph也可以无缝调用LangChain各项开发工具，从而大幅提高开发效率。"
   ]
  },
  {
   "cell_type": "markdown",
   "id": "857b9ec1-44ec-401a-837b-d3470f744859",
   "metadata": {},
   "source": [
    "> LangChain工具集：https://python.langchain.com/docs/integrations/tools/ "
   ]
  },
  {
   "cell_type": "markdown",
   "id": "f797ebef-c612-4f26-b621-27d1d3bcc015",
   "metadata": {},
   "source": [
    "<center><img src=\"https://ml2022.oss-cn-hangzhou.aliyuncs.com/img/image-20250626155849820.png\" alt=\"image-20250626155849820\" style=\"zoom:50%;\" />"
   ]
  },
  {
   "cell_type": "markdown",
   "id": "39c80b93-ea36-440c-8220-f559888698b8",
   "metadata": {},
   "source": [
    "此外，LangChain是最早支持MCP的开发框架之一，借助`langchain-mcp-adapters`，LangChain和LangGraph便可快速接入各类MCP工具。"
   ]
  },
  {
   "cell_type": "markdown",
   "id": "85d5426b-8ada-489a-b346-2046095374d4",
   "metadata": {},
   "source": [
    "<center><img src=\"https://ml2022.oss-cn-hangzhou.aliyuncs.com/img/image-20250626160049848.png\" alt=\"image-20250626160049848\" style=\"zoom:33%;\" />"
   ]
  },
  {
   "cell_type": "markdown",
   "id": "e861b24a-20a6-49ef-8ed5-65d797e2b4b2",
   "metadata": {},
   "source": [
    "并且LangGraph也同样支持谷歌的A2A（跨Agents通信协议）。"
   ]
  },
  {
   "cell_type": "markdown",
   "id": "4a208b4b-e01c-4b3e-ad55-0ac752a31c87",
   "metadata": {},
   "source": [
    "## 二、借助LangGraph Cli创建完整智能体项目"
   ]
  },
  {
   "cell_type": "markdown",
   "id": "0e1ae59b-56e4-408d-a539-cd77c730f4e2",
   "metadata": {},
   "source": [
    "### 1. LangGraph智能体项目说明"
   ]
  },
  {
   "cell_type": "markdown",
   "id": "7b699bf4-adbf-4f55-90e2-ddbfb8e1d5c2",
   "metadata": {},
   "source": [
    "&emsp;&emsp;`LangSmith` 与 `LangGraph Studio` 都是 `LangChain AI` 生态中非常核心的工具，前者是用于跟踪和分析大模型的使用情况，而`langGraph Studio`则是对于`LangGraph`来说，则是比`LangSmith`更加方便和高效的可视化调试工具平台。"
   ]
  },
  {
   "cell_type": "markdown",
   "id": "4048e57e-7e0c-4233-915d-4de5a6cb42f9",
   "metadata": {},
   "source": [
    "&emsp;&emsp;大家可以思考一个问题：基于`LangGraph`框架可以开发出各种复杂的应用、`Agent`、`Workflow`等，那么这些应用、`Agent`、`Workflow`等在生产中如何部署和运行呢？ 解决方案就是把它们部署成一个`Server`。 而对如何方便高效的把`LangGraph`的`Graph`部署成一个`Server`，`LangGraph`官方提供了`LangGraph Platform`，其完整架构如下所示："
   ]
  },
  {
   "cell_type": "markdown",
   "id": "4d7a6e56-3706-40b5-8668-22dd6971765f",
   "metadata": {},
   "source": [
    "<div align=center><img src=\"https://muyu20241105.oss-cn-beijing.aliyuncs.com/images/202506161127412.png\" width=80%></div>"
   ]
  },
  {
   "cell_type": "markdown",
   "id": "4f10ba91-eced-4809-9966-28935be17eea",
   "metadata": {},
   "source": [
    "- **LangGraph Studio**：桌面版应用（`目前仅支持Mac`）和本地运行（适用于所有操作系统）；\n",
    "- **LangServer**：最终构建出来的服务，提供`Assistant API`接口；\n",
    "- **Python/JS SDK**：通过接口可以直接和 `LangServer` 提供的各个`API`接口连接；\n",
    "- **Remote Graph**：类似于之前`LangServe`的用法，可以直接用 `Graph` 的接口去调用，这样拿到的`Graph`就是一个 `Runable`对象，就可以去调用它的`invoke`，`batch` 等。"
   ]
  },
  {
   "cell_type": "markdown",
   "id": "5f62dd6a-6c7d-41bc-941c-f5f47fb2a6fd",
   "metadata": {},
   "source": [
    "&emsp;&emsp;`LangGraph Studio` 是专为 `LangGraph` 图式代理打造的本地/云端 `IDE`，具备可视化节点和状态及实时调试功能。`LangGraph Studio` 在本地可视化运行时会自动把调用过程上传到 `LangSmith`；而在 `LangSmith` 网页端查看任何 `Trace` 时，又能一键`Run in Studio`回放整条执行链，所以它是通过统一 `Trace SDK` 与 `LangSmith` 紧密集成。而LangGraph CLI则是构建这个项目的关键"
   ]
  },
  {
   "cell_type": "markdown",
   "id": "37c35c48-ce3c-487e-909e-a3a98de431c2",
   "metadata": {},
   "source": [
    "&emsp;&emsp;接下来我们就来详细的讲解下如何使用`LangGraph CLI`来创建一个完整的LangGraph Agent项目，并在此过程中使用LangGraph Chat Agent UI进行前端对话，以及使用LangGraph Studio进行架构实时演示，并使用LangSmith进行运行效果监督。"
   ]
  },
  {
   "cell_type": "markdown",
   "id": "c714cdea-b226-45be-911e-91794f857e8f",
   "metadata": {},
   "source": [
    "&emsp;&emsp;首先需要说明的是，如果想要把一个定义的`Graph`添加到`LangGraph Studio`中，需要严格按照官方要求的项目结构进行构建，需要执行的步骤依次是："
   ]
  },
  {
   "cell_type": "markdown",
   "id": "77bc1eba-6aff-4a03-be22-f6c20f6d2498",
   "metadata": {},
   "source": [
    "### 2. 创建完整LangGraph智能体项目流程"
   ]
  },
  {
   "cell_type": "markdown",
   "id": "db5e2226-c399-46f0-8280-f491ecd573f1",
   "metadata": {},
   "source": [
    "- **Step 1. 创建一个`LangGraph`项目文件夹**"
   ]
  },
  {
   "cell_type": "markdown",
   "id": "3e5bfbfa-2d55-4a79-988a-763ee1ad8d16",
   "metadata": {},
   "source": [
    "&emsp;&emsp;我们这里创建一个`langraph_chatbot`文件夹，如下图所示："
   ]
  },
  {
   "cell_type": "markdown",
   "id": "adabb155-1cec-4b23-a39d-652f88e2acba",
   "metadata": {},
   "source": [
    "<center><img src=\"https://ml2022.oss-cn-hangzhou.aliyuncs.com/img/image-20250624190858497.png\" alt=\"image-20250624190858497\" style=\"zoom:50%;\" />"
   ]
  },
  {
   "cell_type": "markdown",
   "id": "a0bd0309-e4ec-4d35-a135-3e8d7e8e07e0",
   "metadata": {},
   "source": [
    "- **Step 2. 创建`requirements.txt`文件**\n",
    "\n",
    "&emsp;&emsp;在`langgraph_chatbot`文件夹中，新建一个`requirements.txt`文件，里面需要填写在运行该项目时需要安装的依赖项，如下所示："
   ]
  },
  {
   "cell_type": "markdown",
   "id": "369eb6c5-e9ea-4c5e-917e-014d17e7c13c",
   "metadata": {},
   "source": [
    "```bash\n",
    "langgraph\n",
    "langchain-core\n",
    "langchain-deepseek\n",
    "python-dotenv\n",
    "langsmith\n",
    "pydantic\n",
    "matplotlib\n",
    "seaborn\n",
    "pandas\n",
    "IPython\n",
    "langchain_mcdapters\n",
    "uv\n",
    "```"
   ]
  },
  {
   "cell_type": "markdown",
   "id": "73dbf35f-8995-41df-b194-bba501f1e15a",
   "metadata": {},
   "source": [
    "<center><img src=\"https://ml2022.oss-cn-hangzhou.aliyuncs.com/img/image-20250624191027491.png\" alt=\"image-20250624191027491\" style=\"zoom:33%;\" />"
   ]
  },
  {
   "cell_type": "markdown",
   "id": "263fa3a8-84ee-42c4-a071-e162c5e273f7",
   "metadata": {},
   "source": [
    "- **Step 3. 注册LangSmith（可选）**"
   ]
  },
  {
   "cell_type": "markdown",
   "id": "eb3fbb42-1e88-4daf-b803-cab9115410fb",
   "metadata": {},
   "source": [
    "&emsp;&emsp;对于企业级的Agent项目，为了更好的监控智能体实时运行情况，我们可以考虑借助LangSmith进行追踪（会将智能体运行情况实时上传到LangGraph官网并进行展示）。"
   ]
  },
  {
   "cell_type": "markdown",
   "id": "d112be2f-d2fc-4904-bd6c-d3d16f66881b",
   "metadata": {},
   "source": [
    "&emsp;&emsp;要开始使用 `LangSmith`，我们需要创建一个帐户。可以在这里注册一个免费帐户进入`LangSmith`登录页面： https://smith.langchain.com/ ， 支持使用 Google、GitHub、Discord 和电子邮件登录。"
   ]
  },
  {
   "cell_type": "markdown",
   "id": "73ffc14c-9f6d-456d-b7df-a7d363b572d1",
   "metadata": {},
   "source": [
    "<center><div align=center><img src=\"https://muyu20241105.oss-cn-beijing.aliyuncs.com/images/202506151835039.png\" width=33%></div>"
   ]
  },
  {
   "cell_type": "markdown",
   "id": "336a56aa-b2aa-41c0-813d-ac6cfce846f9",
   "metadata": {},
   "source": [
    "&emsp;&emsp;注册并等登录后，可以直接查看到仪表板："
   ]
  },
  {
   "cell_type": "markdown",
   "id": "c8fe1b62-a24a-466d-be91-394f8ce84c1b",
   "metadata": {},
   "source": [
    "<center><img src=\"https://ml2022.oss-cn-hangzhou.aliyuncs.com/img/image-20250624190009348.png\" alt=\"image-20250624190009348\" style=\"zoom:33%;\" />"
   ]
  },
  {
   "cell_type": "markdown",
   "id": "f960e2b7-1316-414b-99a5-09d72a007fd2",
   "metadata": {},
   "source": [
    "<center><img src=\"https://ml2022.oss-cn-hangzhou.aliyuncs.com/img/image-20250624190049558.png\" alt=\"image-20250624190049558\" style=\"zoom:33%;\" />"
   ]
  },
  {
   "cell_type": "markdown",
   "id": "701e0819-26ec-4adc-bcae-45cbe2937196",
   "metadata": {},
   "source": [
    "<center><img src=\"https://ml2022.oss-cn-hangzhou.aliyuncs.com/img/image-20250624190123279.png\" alt=\"image-20250624190123279\" style=\"zoom:33%;\" />"
   ]
  },
  {
   "cell_type": "markdown",
   "id": "997e056d-da3f-4a2b-a30f-fa0c5b30bd48",
   "metadata": {},
   "source": [
    "<center><img src=\"https://ml2022.oss-cn-hangzhou.aliyuncs.com/img/image-20250624190228537.png\" alt=\"image-20250624190228537\" style=\"zoom:33%;\" />"
   ]
  },
  {
   "cell_type": "markdown",
   "id": "eac6b7a1-6410-47f9-9359-f12c5a45d85e",
   "metadata": {},
   "source": [
    "&emsp;&emsp;在构建程序跟踪前，首先需要创建一个 `API` 密钥，该密钥将允许我们的项目开始向 `Langsmith` 发送跟踪数据。创建完密钥后，在后续配置环境变量环节设置开启追踪、并输入密钥即可接入LangSmith。"
   ]
  },
  {
   "cell_type": "markdown",
   "id": "6afa1326-1dbb-49e5-80b5-aa5b879d269f",
   "metadata": {},
   "source": [
    "- **Step 4. 创建`.env`配置文件**\n",
    "\n",
    "&emsp;&emsp;在`langgraph_chatbot`文件夹中，新建一个`.env`文件，将敏感信息（如`API`密钥）放在环境变量中而不是硬编码。如下所示："
   ]
  },
  {
   "cell_type": "markdown",
   "id": "387bfa9b-02aa-483b-911f-5174a8a3ea4f",
   "metadata": {},
   "source": [
    "<center><img src=\"https://ml2022.oss-cn-hangzhou.aliyuncs.com/img/image-20250626191522776.png\" alt=\"image-20250626191522776\" style=\"zoom:50%;\" />"
   ]
  },
  {
   "cell_type": "markdown",
   "id": "d5e3d543-f091-406d-89f8-65a53bccecb7",
   "metadata": {},
   "source": [
    "这里需要注意的是，如果不设置LangSmith，则无需设置中间三个环境变量，而具体工具也可以根据实际需求进行设置。"
   ]
  },
  {
   "cell_type": "markdown",
   "id": "53a2bcbd-3a8c-4344-b23b-4711ee224943",
   "metadata": {},
   "source": [
    "- **Step 5. 创建`graph.py`核心文件**\n",
    "\n",
    "&emsp;&emsp;在`langgraph_chatbot`文件夹中，新建一个`graph.py`文件，在该文件中编写构建图的具体运行逻辑，如状态、节点、变、图的编译等。注意：这里不要使用`init_chat_model`方法，而是使用`ChatDeepSeek`方法，因为会存在异步阻塞问题。此外，在使用LangGraph CLI创建智能体项目时，会自动设置记忆相关内容，并进行持久化记忆存储，无需手动设置。因此此时智能体代码如下所示："
   ]
  },
  {
   "cell_type": "markdown",
   "id": "3b470cb3-6132-462c-acc2-f9fc1f97d3b7",
   "metadata": {},
   "source": [
    "```python\n",
    "import os\n",
    "from dotenv import load_dotenv \n",
    "from langchain_deepseek import ChatDeepSeek\n",
    "from typing import Annotated\n",
    "from typing_extensions import TypedDict\n",
    "from langgraph.graph import StateGraph, START, END\n",
    "from langgraph.graph.message import add_messages\n",
    "from langchain.chat_models import init_chat_model\n",
    "from langgraph.prebuilt import create_react_agent\n",
    "from langchain_tavily import TavilySearch\n",
    "from langchain_core.tools import tool\n",
    "from pydantic import BaseModel, Field\n",
    "import requests,json\n",
    "\n",
    "# 加载环境变量\n",
    "load_dotenv(override=True)\n",
    "\n",
    "# 内置搜索工具\n",
    "search_tool = TavilySearch(max_results=5, topic=\"general\")\n",
    "\n",
    "class WeatherQuery(BaseModel):\n",
    "    loc: str = Field(description=\"The location name of the city\")\n",
    "\n",
    "@tool(args_schema = WeatherQuery)\n",
    "def get_weather(loc):\n",
    "    \"\"\"\n",
    "    查询即时天气函数\n",
    "    :param loc: 必要参数，字符串类型，用于表示查询天气的具体城市名称，\\\n",
    "    注意，中国的城市需要用对应城市的英文名称代替，例如如果需要查询北京市天气，则loc参数需要输入'Beijing'；\n",
    "    :return：OpenWeather API查询即时天气的结果，具体URL请求地址为：https://api.openweathermap.org/data/2.5/weather\\\n",
    "    返回结果对象类型为解析之后的JSON格式对象，并用字符串形式进行表示，其中包含了全部重要的天气信息\n",
    "    \"\"\"\n",
    "    # Step 1.构建请求\n",
    "    url = \"https://api.openweathermap.org/data/2.5/weather\"\n",
    "\n",
    "    # Step 2.设置查询参数\n",
    "    params = {\n",
    "        \"q\": loc,               \n",
    "        \"appid\": os.getenv(\"OPENWEATHER_API_KEY\"),    # 输入API key\n",
    "        \"units\": \"metric\",            # 使用摄氏度而不是华氏度\n",
    "        \"lang\":\"zh_cn\"                # 输出语言为简体中文\n",
    "    }\n",
    "\n",
    "    # Step 3.发送GET请求\n",
    "    response = requests.get(url, params=params)\n",
    "    \n",
    "    # Step 4.解析响应\n",
    "    data = response.json()\n",
    "    return json.dumps(data)\n",
    "\n",
    "tools = [search_tool, get_weather]\n",
    "\n",
    "# 创建模型\n",
    "model = ChatDeepSeek(model=\"deepseek-chat\")\n",
    "\n",
    "prompt = \"\"\"\n",
    "你是一名乐于助人的智能助手，擅长根据用户的问题选择合适的工具来查询信息并回答。\n",
    "\n",
    "当用户的问题涉及**天气信息**时，你应优先调用`get_weather`工具，查询用户指定城市的实时天气，并在回答中总结查询结果。\n",
    "\n",
    "当用户的问题涉及**新闻、事件、实时动态**时，你应优先调用`search_tool`工具，检索相关的最新信息，并在回答中简要概述。\n",
    "\n",
    "如果问题既包含天气又包含新闻，请先使用`get_weather`查询天气，再使用`search_tool`查询新闻，最后将结果合并后回复用户。\n",
    "\n",
    "所有回答应使用**简体中文**，条理清晰、简洁友好。\n",
    "\"\"\"\n",
    "\n",
    "\n",
    "# 创建图\n",
    "graph = create_react_agent(model=model, \n",
    "                           tools=tools, \n",
    "                           prompt=prompt)天气时候，请使用get_weather工具查询天气。当用户询问新闻时，请使用search_tool工具查询新闻。\")\n",
    "```"
   ]
  },
  {
   "cell_type": "markdown",
   "id": "b0effb21-7e90-4cf0-a066-48f78f90c3fe",
   "metadata": {},
   "source": [
    "<center><img src=\"https://ml2022.oss-cn-hangzhou.aliyuncs.com/img/image-20250624191412113.png\" alt=\"image-20250624191412113\" style=\"zoom:33%;\" />"
   ]
  },
  {
   "cell_type": "markdown",
   "id": "d27a74e3-5ade-4fdc-b679-a1ec47a34b66",
   "metadata": {},
   "source": [
    "- **Step 6. 创建`langgraph.json`文件**\n",
    "\n",
    "&emsp;&emsp;在`langgraph_chatbot`文件夹中，新建一个`langgraph.json`文件，在该`json`文件中配置项目信息，遵循规范如下所示：\n",
    "\n",
    "- 必须包含 `dependencies` 和 `graphs` 字段\n",
    "- `graphs` 字段格式：\"图名\": \"文件路径:变量名\"\n",
    "- 配置文件必须放在与Python文件同级或更高级的目录\n",
    "\n",
    "&emsp;&emsp;注意: 项目文件的名称必须为`langgraph.json`。如下所示："
   ]
  },
  {
   "cell_type": "markdown",
   "id": "8c00e864-b7c8-4464-b591-3359ce2bc98b",
   "metadata": {},
   "source": [
    "<center><img src=\"https://ml2022.oss-cn-hangzhou.aliyuncs.com/img/image-20250624191532218.png\" alt=\"image-20250624191532218\" style=\"zoom:33%;\" />"
   ]
  },
  {
   "cell_type": "markdown",
   "id": "17ac9c73-bc6b-4c07-b545-27a02125b4f1",
   "metadata": {},
   "source": [
    "```josn\n",
    "{\n",
    "  \"dependencies\": [\"./\"],\n",
    "  \"graphs\": {\n",
    "    \"chatbot\": \"./graph.py:graph\"\n",
    "  },\n",
    "  \"env\": \".env\"\n",
    "}\n",
    "  \n",
    "```"
   ]
  },
  {
   "cell_type": "markdown",
   "id": "fb73c729-be8c-4142-a97c-96edc7df0431",
   "metadata": {},
   "source": [
    "&emsp;&emsp;其中：\n",
    "- `dependencies`: [\"./\"] - 告诉`LangGraph`在当前目录查找依赖项（会自动读取`requirements.txt`）\n",
    "- `chatbot`: \"./graph.py:graph\" - 定义图名为`chatbot`，来自`graph.py`文件中的`graph`变量\n",
    "- `env`: \".env\" - 指定环境变量文件位置"
   ]
  },
  {
   "cell_type": "markdown",
   "id": "eecb70da-0797-403a-b4a1-bbe6467999ba",
   "metadata": {},
   "source": [
    "&emsp;&emsp;最终完整项目结构如下所示：\n",
    "\n",
    "```json\n",
    "    ./langraph_chatbot/\n",
    "    ├── graph.py              # 对应官方的 agent.py\n",
    "    ├── requirements.txt      # ✅ 依赖管理\n",
    "    ├── langgraph.json       # ✅ 配置文件\n",
    "    └── .env                 # ✅ 环境变量\n",
    "```"
   ]
  },
  {
   "cell_type": "markdown",
   "id": "57e8b363-2721-4217-b988-e516993ddcb1",
   "metadata": {},
   "source": [
    "<center><img src=\"https://ml2022.oss-cn-hangzhou.aliyuncs.com/img/image-20250624191613003.png\" alt=\"image-20250624191613003\" style=\"zoom:50%;\" />"
   ]
  },
  {
   "cell_type": "markdown",
   "id": "5b256cc5-29b1-4d91-8bf2-95ce49bb2dbb",
   "metadata": {},
   "source": [
    "&emsp;&emsp;完整的代码已经上传至百度网盘中的`langgraph_chatbot`文件夹中，大家可以扫描下方二维码免费领取"
   ]
  },
  {
   "cell_type": "markdown",
   "id": "6b7d2f92-7804-48a4-a2c7-dde4886eb181",
   "metadata": {},
   "source": [
    "<center><img src=\"https://ml2022.oss-cn-hangzhou.aliyuncs.com/img/image-20250624191855635.png\" alt=\"image-20250624191855635\" style=\"zoom:33%;\" />"
   ]
  },
  {
   "cell_type": "markdown",
   "id": "2959de0e-297c-4c41-85b0-7c7cb32bccc2",
   "metadata": {},
   "source": [
    "<center><img src=\"https://ml2022.oss-cn-hangzhou.aliyuncs.com/img/e873ea36c8a2263b2a88a0f86f9481b.png\" alt=\"e873ea36c8a2263b2a88a0f86f9481b\" style=\"zoom:50%;\" />"
   ]
  },
  {
   "cell_type": "markdown",
   "id": "f9641b93-3afa-4206-8da7-3d10b9a0e8af",
   "metadata": {},
   "source": [
    "- **Step 7. 安装`langgraph-cli`以及其他依赖**"
   ]
  },
  {
   "cell_type": "markdown",
   "id": "db18ae3e-da4b-4cbb-b1ff-f7a9b89c1411",
   "metadata": {},
   "source": [
    "&emsp;&emsp;然后，安装`langgraph-cli`依赖，执行如下代码：\n",
    "\n",
    "```bash\n",
    "    pip install -U \"langgraph-cli[inmem]\"\n",
    "```"
   ]
  },
  {
   "cell_type": "markdown",
   "id": "89b5e461-e21c-4b39-ac1a-0e4c65aab83b",
   "metadata": {},
   "source": [
    "<center>\n",
    "\n",
    "<img src=\"https://ml2022.oss-cn-hangzhou.aliyuncs.com/img/image-20250624192025273.png\" alt=\"image-20250624192025273\" style=\"zoom:50%;\" />"
   ]
  },
  {
   "cell_type": "markdown",
   "id": "debd6f7b-9609-4a0c-9e4e-c33ddc71695d",
   "metadata": {},
   "source": [
    "&emsp;&emsp;然后进入到`langgraph_chatbot`文件夹，安装相关基础依赖："
   ]
  },
  {
   "cell_type": "markdown",
   "id": "421f27a0-07d6-4f98-af3e-809ddf932596",
   "metadata": {},
   "source": [
    "```bash\n",
    "pip install -r requirements.txt\n",
    "```"
   ]
  },
  {
   "cell_type": "markdown",
   "id": "78055592-7c28-495f-82ac-d1a28c3bb3c6",
   "metadata": {},
   "source": [
    "&emsp;&emsp;最后，进入到`langgraph_chatbot`文件夹，执行`LangGraph dev`即可启动项目\n",
    "\n",
    "```bash\n",
    "   langgraph dev\n",
    "```"
   ]
  },
  {
   "cell_type": "markdown",
   "id": "c8524744-0208-465c-8c88-088de6a091b4",
   "metadata": {},
   "source": [
    "<center><img src=\"https://ml2022.oss-cn-hangzhou.aliyuncs.com/img/image-20250624192113062.png\" alt=\"image-20250624192113062\" style=\"zoom:50%;\" />"
   ]
  },
  {
   "cell_type": "markdown",
   "id": "f70c5760-9dc5-4257-99c2-5c9ff3256cf4",
   "metadata": {},
   "source": [
    "&emsp;&emsp;启动成功后能看到三个连接，其中第一个连接是当前部署完成后的服务端口，第二个是LangGraph Studio的可视化页面，第三个端口是端口说明。"
   ]
  },
  {
   "cell_type": "markdown",
   "id": "cd46e96c-a1b6-4766-8dc7-6b4c612b00e7",
   "metadata": {},
   "source": [
    "### 3. LangGraph Agent部署后调用流程"
   ]
  },
  {
   "cell_type": "markdown",
   "id": "dd4c620a-e563-4590-aa6f-549c0094b1d9",
   "metadata": {},
   "source": [
    "- 后端服务接口"
   ]
  },
  {
   "cell_type": "markdown",
   "id": "f22c3093-2fa4-4c07-9aec-cb0030ac6c02",
   "metadata": {},
   "source": [
    "&emsp;&emsp;这里我们首先可以看下第三个连接，其中包含了详细的接口调用方法："
   ]
  },
  {
   "cell_type": "markdown",
   "id": "3c4ddc9d-a82f-4fa5-962c-44b9218ab053",
   "metadata": {},
   "source": [
    "<center><img src=\"https://ml2022.oss-cn-hangzhou.aliyuncs.com/img/image-20250626193027400.png\" alt=\"image-20250626193027400\" style=\"zoom:50%;\" />"
   ]
  },
  {
   "cell_type": "markdown",
   "id": "b5ab2d4a-7318-4525-956d-fe278119b2d7",
   "metadata": {},
   "source": [
    "这些暴露的接口和调用方法，接下来就可以用于进行进一步开发和测试。"
   ]
  },
  {
   "cell_type": "markdown",
   "id": "0838c6e9-82ba-47f9-9ab4-9af08a29b985",
   "metadata": {},
   "source": [
    "- LangGraph Studio"
   ]
  },
  {
   "cell_type": "markdown",
   "id": "085f282e-55eb-458e-9df8-b82f6f7dc31c",
   "metadata": {},
   "source": [
    "然后我们可点击`Studio UI`中显示的链接，在浏览器中打开并访问`Studio`，如下所示："
   ]
  },
  {
   "cell_type": "markdown",
   "id": "2cc9137e-4d07-4213-bd32-a233dad06bda",
   "metadata": {},
   "source": [
    "<center><img src=\"https://ml2022.oss-cn-hangzhou.aliyuncs.com/img/image-20250626192534605.png\" alt=\"image-20250626192534605\" style=\"zoom:33%;\" />"
   ]
  },
  {
   "cell_type": "markdown",
   "id": "1e7f587e-f0da-44c9-80b6-0e20bc991d87",
   "metadata": {},
   "source": [
    "完整演示流程如下所示："
   ]
  },
  {
   "cell_type": "code",
   "execution_count": 2,
   "id": "9c14cd6d-ab29-4a09-9e06-7bd3fc4e3eb4",
   "metadata": {},
   "outputs": [
    {
     "data": {
      "text/html": [
       "<video src=\"https://ml2022.oss-cn-hangzhou.aliyuncs.com/2025-06-26%2019-29-04.mp4\" controls  width=\"800\"  height=\"400\">\n",
       "      Your browser does not support the <code>video</code> element.\n",
       "    </video>"
      ],
      "text/plain": [
       "<IPython.core.display.Video object>"
      ]
     },
     "execution_count": 2,
     "metadata": {},
     "output_type": "execute_result"
    }
   ],
   "source": [
    "Video(\"https://ml2022.oss-cn-hangzhou.aliyuncs.com/2025-06-26%2019-29-04.mp4\", width=800, height=400)"
   ]
  },
  {
   "cell_type": "markdown",
   "id": "261fcdde-5cec-409c-a413-d8aa20e07757",
   "metadata": {},
   "source": [
    "- LangSmith"
   ]
  },
  {
   "cell_type": "markdown",
   "id": "b749dda4-87f0-43eb-aa9b-59413bc1a59a",
   "metadata": {},
   "source": [
    "而如果此前设置了追踪，此时就能在LangSmith中看到当前项目运行情况："
   ]
  },
  {
   "cell_type": "markdown",
   "id": "4e7d4a62-da7e-4161-b213-36b56102fadb",
   "metadata": {},
   "source": [
    "<center><img src=\"https://ml2022.oss-cn-hangzhou.aliyuncs.com/img/image-20250626195150434.png\" alt=\"image-20250626195150434\" style=\"zoom:33%;\" />"
   ]
  },
  {
   "cell_type": "code",
   "execution_count": 3,
   "id": "01e84e7b-4d9a-4312-b55a-0b71026f4508",
   "metadata": {},
   "outputs": [
    {
     "data": {
      "text/html": [
       "<video src=\"https://ml2022.oss-cn-hangzhou.aliyuncs.com/2025-06-26%2019-52-57.mp4\" controls  width=\"800\"  height=\"400\">\n",
       "      Your browser does not support the <code>video</code> element.\n",
       "    </video>"
      ],
      "text/plain": [
       "<IPython.core.display.Video object>"
      ]
     },
     "execution_count": 3,
     "metadata": {},
     "output_type": "execute_result"
    }
   ],
   "source": [
    "Video(\"https://ml2022.oss-cn-hangzhou.aliyuncs.com/2025-06-26%2019-52-57.mp4\", width=800, height=400)"
   ]
  },
  {
   "cell_type": "markdown",
   "id": "211d40fc-d29b-487b-a8fc-d73966816102",
   "metadata": {},
   "source": [
    "### 4. LangGraph Agent后端接入Agent Chat UI完整流程"
   ]
  },
  {
   "cell_type": "markdown",
   "id": "966ed401-e72b-4c25-8a57-9b108f12389f",
   "metadata": {},
   "source": [
    "- 项目主页：https://github.com/langchain-ai/agent-chat-ui"
   ]
  },
  {
   "cell_type": "markdown",
   "id": "8622559d-488c-4c4c-b6ea-8691cd889062",
   "metadata": {},
   "source": [
    "<center><img src=\"https://ml2022.oss-cn-hangzhou.aliyuncs.com/img/image-20250626195531310.png\" alt=\"image-20250626195531310\" style=\"zoom:33%;\" />"
   ]
  },
  {
   "cell_type": "markdown",
   "id": "c00cbac9-2683-4935-ba56-a223e45c13a9",
   "metadata": {},
   "source": [
    "- Step 1.克隆项目："
   ]
  },
  {
   "cell_type": "markdown",
   "id": "64964c20-8d68-49d9-9811-84c58f45812a",
   "metadata": {},
   "source": [
    "```bash\n",
    "git clone https://github.com/langchain-ai/agent-chat-ui.git\n",
    "\n",
    "cd agent-chat-ui\n",
    "```"
   ]
  },
  {
   "cell_type": "markdown",
   "id": "a50d2feb-f0a8-4f11-ab37-8728156fe2ed",
   "metadata": {},
   "source": [
    "<center><img src=\"https://ml2022.oss-cn-hangzhou.aliyuncs.com/img/202506271632108.png\" alt=\"image-20250627163204939\" style=\"zoom:50%;\" />"
   ]
  },
  {
   "cell_type": "markdown",
   "id": "1e86197d-926d-4cb1-9c61-d60841e9cc8a",
   "metadata": {},
   "source": [
    "<center><img src=\"https://ml2022.oss-cn-hangzhou.aliyuncs.com/img/image-20250626195728052.png\" alt=\"image-20250626195728052\" style=\"zoom:50%;\" /></center>"
   ]
  },
  {
   "cell_type": "markdown",
   "id": "d590e5d5-f387-4507-946a-071833ea66b6",
   "metadata": {},
   "source": [
    "<center><img src=\"https://ml2022.oss-cn-hangzhou.aliyuncs.com/img/e873ea36c8a2263b2a88a0f86f9481b.png\" alt=\"e873ea36c8a2263b2a88a0f86f9481b\" style=\"zoom:50%;\" />"
   ]
  },
  {
   "cell_type": "markdown",
   "id": "99b172bd-46fa-44f2-8b8e-34b0aa3846e9",
   "metadata": {},
   "source": [
    "> GitHub代理设置（若开启代理且端口为10080时）：        \n",
    "> git config --global http.proxy http://127.0.0.1:10080         \n",
    "> git config --global https.proxy http://127.0.0.1:10080"
   ]
  },
  {
   "cell_type": "markdown",
   "id": "b3a70690-3896-4c27-af8f-34903c8d57ee",
   "metadata": {},
   "source": [
    "- Step 2. 安装npm"
   ]
  },
  {
   "cell_type": "markdown",
   "id": "b62edd02-f9eb-4c57-ac0b-b11c22e01c48",
   "metadata": {},
   "source": [
    "&emsp;&emsp;node.js官网：https://nodejs.org"
   ]
  },
  {
   "cell_type": "markdown",
   "id": "5b22520c-13b4-448e-b742-53e9e794ee3e",
   "metadata": {},
   "source": [
    "<center><img src=\"https://ml2022.oss-cn-hangzhou.aliyuncs.com/img/image-20250626195919940.png\" alt=\"image-20250626195919940\" style=\"zoom:50%;\" />"
   ]
  },
  {
   "cell_type": "markdown",
   "id": "b46aae7f-c653-4cbb-93de-c2bacd58f972",
   "metadata": {},
   "source": [
    "<center><img src=\"https://ml2022.oss-cn-hangzhou.aliyuncs.com/img/image-20250626200017314.png\" alt=\"image-20250626200017314\" style=\"zoom:50%;\" />"
   ]
  },
  {
   "cell_type": "markdown",
   "id": "33d5ea59-7180-42f2-868c-96f37ca88d9d",
   "metadata": {},
   "source": [
    "```bash\n",
    "npm install -g pnpm\n",
    "pnpm -v\n",
    "```"
   ]
  },
  {
   "cell_type": "markdown",
   "id": "eddaa6e2-5c71-407a-a865-417fa9eee09f",
   "metadata": {},
   "source": [
    "<center><img src=\"https://ml2022.oss-cn-hangzhou.aliyuncs.com/img/image-20250626200108284.png\" alt=\"image-20250626200108284\" style=\"zoom:50%;\" />"
   ]
  },
  {
   "cell_type": "markdown",
   "id": "c083ace7-3f9d-492a-ac02-227f855156b6",
   "metadata": {},
   "source": [
    "- Step 3. 安装前端项目依赖"
   ]
  },
  {
   "cell_type": "markdown",
   "id": "29b01238-e0da-4b6e-b2a8-05e77db3c985",
   "metadata": {},
   "source": [
    "```bash\n",
    "pnpm install\n",
    "```"
   ]
  },
  {
   "cell_type": "markdown",
   "id": "85dd0846-3578-4a4c-b2c7-3ef6b4c5f0cc",
   "metadata": {},
   "source": [
    "<center><img src=\"https://ml2022.oss-cn-hangzhou.aliyuncs.com/img/202506271635853.png\" alt=\"image-20250627163550759\" style=\"zoom:50%;\" />"
   ]
  },
  {
   "cell_type": "markdown",
   "id": "d8e41dbd-2754-49d1-b8cf-6a54deff00e2",
   "metadata": {},
   "source": [
    "- Step 4. 开启Chat Agent UI"
   ]
  },
  {
   "cell_type": "markdown",
   "id": "57ea1dea-3f1a-4069-8aad-35b5f7800f30",
   "metadata": {},
   "source": [
    "```bash\n",
    "pnpm dev\n",
    "```"
   ]
  },
  {
   "cell_type": "markdown",
   "id": "ce0cc95b-b9e0-43c1-8a5c-2f37c15c8a3f",
   "metadata": {},
   "source": [
    "<center><img src=\"https://ml2022.oss-cn-hangzhou.aliyuncs.com/img/image-20250626200239972.png\" alt=\"image-20250626200239972\" style=\"zoom:50%;\" />"
   ]
  },
  {
   "cell_type": "markdown",
   "id": "bdbbbcab-2f81-4c55-88e8-92e2cf92fd0f",
   "metadata": {},
   "source": [
    "<center><img src=\"https://ml2022.oss-cn-hangzhou.aliyuncs.com/img/image-20250626200317093.png\" alt=\"image-20250626200317093\" style=\"zoom:50%;\" />"
   ]
  },
  {
   "cell_type": "markdown",
   "id": "aea969c6-66b6-46c8-a889-53d4a67d0d49",
   "metadata": {},
   "source": [
    "<center><img src=\"https://ml2022.oss-cn-hangzhou.aliyuncs.com/img/image-20250626200521303.png\" alt=\"image-20250626200521303\" style=\"zoom:50%;\" />"
   ]
  },
  {
   "cell_type": "code",
   "execution_count": 4,
   "id": "dac97ca1-aa55-4874-9148-0d4ad467b7fb",
   "metadata": {},
   "outputs": [
    {
     "data": {
      "text/html": [
       "<video src=\"https://ml2022.oss-cn-hangzhou.aliyuncs.com/2025-06-26%2020-03-25.mp4\" controls  width=\"800\"  height=\"400\">\n",
       "      Your browser does not support the <code>video</code> element.\n",
       "    </video>"
      ],
      "text/plain": [
       "<IPython.core.display.Video object>"
      ]
     },
     "execution_count": 4,
     "metadata": {},
     "output_type": "execute_result"
    }
   ],
   "source": [
    "Video(\"https://ml2022.oss-cn-hangzhou.aliyuncs.com/2025-06-26%2020-03-25.mp4\", width=800, height=400)"
   ]
  },
  {
   "cell_type": "markdown",
   "id": "8ab5bf82-bd05-4cb5-8799-22730a96d9a8",
   "metadata": {},
   "source": [
    "## 三、借助LangGraph Cli打造智能数据分析助手"
   ]
  },
  {
   "cell_type": "markdown",
   "id": "35b40248-13b2-46b3-a0d5-a2229e2f0dd2",
   "metadata": {},
   "source": [
    "&emsp;&emsp;在完整了解了LangGraph各项开发工具的使用方法之后，接下来我们尝试使用LangGraph的开发生态，来创建一个同时具备数据库查询和Python代码解释器功能的智能数据分析助手Data Agent。\n",
    "\n",
    "&emsp;&emsp;需要注意的是，LangChain内置工具中包含NL2SQL工具和Python工具，但为了获得更加稳定的数据查询和Python编程效果，这里我们考虑手动编写相关外部函数。"
   ]
  },
  {
   "cell_type": "markdown",
   "id": "b2b71190-06fe-4914-bbf8-8a5ecc2a05bd",
   "metadata": {},
   "source": [
    "- Data Agent完整项目架构"
   ]
  },
  {
   "attachments": {},
   "cell_type": "markdown",
   "id": "e8284b60-b704-4029-be07-8d674e6c313e",
   "metadata": {},
   "source": [
    "<center><img src=\"https://ml2022.oss-cn-hangzhou.aliyuncs.com/img/image-20250706212514440.png\" alt=\"image-20250706212514440\" style=\"zoom:50%;\" />"
   ]
  },
  {
   "cell_type": "markdown",
   "id": "4c84d031-1a3c-483a-a385-d80dc58bc09a",
   "metadata": {},
   "source": [
    "- 效果演示 "
   ]
  },
  {
   "cell_type": "code",
   "execution_count": 2,
   "id": "4bcc3ce8-00fb-4bd8-b9e8-87cddb43491e",
   "metadata": {},
   "outputs": [
    {
     "data": {
      "text/html": [
       "<video src=\"https://ml2022.oss-cn-hangzhou.aliyuncs.com/49cf479447e430084c1bdc59f5838f6d_raw.mp4\" controls  width=\"800\"  height=\"400\">\n",
       "      Your browser does not support the <code>video</code> element.\n",
       "    </video>"
      ],
      "text/plain": [
       "<IPython.core.display.Video object>"
      ]
     },
     "execution_count": 2,
     "metadata": {},
     "output_type": "execute_result"
    }
   ],
   "source": [
    "Video(\"https://ml2022.oss-cn-hangzhou.aliyuncs.com/49cf479447e430084c1bdc59f5838f6d_raw.mp4\", width=800, height=400)"
   ]
  },
  {
   "cell_type": "code",
   "execution_count": 3,
   "id": "c3105bc9-318c-4c4c-8f8c-bb526a7aa8bd",
   "metadata": {},
   "outputs": [
    {
     "data": {
      "text/plain": [
       "True"
      ]
     },
     "execution_count": 3,
     "metadata": {},
     "output_type": "execute_result"
    }
   ],
   "source": [
    "import os\n",
    "from dotenv import load_dotenv \n",
    "from langchain_deepseek import ChatDeepSeek\n",
    "from typing import Annotated\n",
    "from typing_extensions import TypedDict\n",
    "from langgraph.graph import StateGraph, START, END\n",
    "from langgraph.graph.message import add_messages\n",
    "from langchain.chat_models import init_chat_model\n",
    "from langgraph.prebuilt import create_react_agent\n",
    "from langchain_mcp_adapters.client import MultiServerMCPClient\n",
    "from langchain_core.tools import tool\n",
    "from pydantic import BaseModel, Field\n",
    "import matplotlib\n",
    "import json\n",
    "import matplotlib.pyplot as plt\n",
    "import seaborn as sns\n",
    "import pandas as pd\n",
    "import pymysql\n",
    "from langchain_tavily import TavilySearch\n",
    "\n",
    "# 加载环境变量\n",
    "load_dotenv(override=True)"
   ]
  },
  {
   "cell_type": "markdown",
   "id": "1372c63e-6156-482f-9872-78f2485d3379",
   "metadata": {},
   "source": [
    "### 1. 数据库查询工具编写"
   ]
  },
  {
   "cell_type": "markdown",
   "id": "403d9052-7faa-45f6-815b-1e0d86c6cca4",
   "metadata": {},
   "source": [
    "&emsp;&emsp;首先是数据查询函数，这里我们创建两个外部工具，分别用于执行MySQL数据查询（sql_inter）和MySQL数据库的数据提取（extract_data）。很多场景下更加细分的外部函数功能，往往会带来更加稳定的查询结果。"
   ]
  },
  {
   "cell_type": "markdown",
   "id": "2b8fff5a-c934-4ee9-a0d0-4e3a28946594",
   "metadata": {},
   "source": [
    "#### 1.1 MySQL数据查询工具sql_inter编写"
   ]
  },
  {
   "cell_type": "code",
   "execution_count": 4,
   "id": "80c3b44b-4abc-4659-aecc-d57f155843e0",
   "metadata": {},
   "outputs": [],
   "source": [
    "description = \"\"\"\n",
    "当用户需要进行数据库查询工作时，请调用该函数。\n",
    "该函数用于在指定MySQL服务器上运行一段SQL代码，完成数据查询相关工作，\n",
    "并且当前函数是使用pymsql连接MySQL数据库。\n",
    "本函数只负责运行SQL代码并进行数据查询，若要进行数据提取，则使用另一个extract_data函数。\n",
    "\"\"\"\n",
    "\n",
    "# ✅ 定义结构化参数模型\n",
    "class SQLQuerySchema(BaseModel):\n",
    "    sql_query: str = Field(description=description)\n",
    "\n",
    "# ✅ 封装为 LangGraph 工具\n",
    "@tool(args_schema=SQLQuerySchema)\n",
    "def sql_inter(sql_query: str) -> str:\n",
    "    \"\"\"\n",
    "    当用户需要进行数据库查询工作时，请调用该函数。\n",
    "    该函数用于在指定MySQL服务器上运行一段SQL代码，完成数据查询相关工作，\n",
    "    并且当前函数是使用pymsql连接MySQL数据库。\n",
    "    本函数只负责运行SQL代码并进行数据查询，若要进行数据提取，则使用另一个extract_data函数。\n",
    "    :param sql_query: 字符串形式的SQL查询语句，用于执行对MySQL中telco_db数据库中各张表进行查询，并获得各表中的各类相关信息\n",
    "    :return：sql_query在MySQL中的运行结果。   \n",
    "    \"\"\"\n",
    "    # print(\"正在调用 sql_inter 工具运行 SQL 查询...\")\n",
    "    \n",
    "    # 加载环境变量\n",
    "    load_dotenv(override=True)\n",
    "    host = os.getenv('HOST')\n",
    "    user = os.getenv('USER')\n",
    "    mysql_pw = os.getenv('MYSQL_PW')\n",
    "    db = os.getenv('DB_NAME')\n",
    "    port = os.getenv('PORT')\n",
    "    \n",
    "    # 创建连接\n",
    "    connection = pymysql.connect(\n",
    "        host=host,\n",
    "        user=user,\n",
    "        passwd=mysql_pw,\n",
    "        db=db,\n",
    "        port=int(port),\n",
    "        charset='utf8'\n",
    "    )\n",
    "    \n",
    "    try:\n",
    "        with connection.cursor() as cursor:\n",
    "            cursor.execute(sql_query)\n",
    "            results = cursor.fetchall()\n",
    "            # print(\"SQL 查询已成功执行，正在整理结果...\")\n",
    "    finally:\n",
    "        connection.close()\n",
    "\n",
    "    # 将结果以 JSON 字符串形式返回\n",
    "    return json.dumps(results, ensure_ascii=False)"
   ]
  },
  {
   "cell_type": "markdown",
   "id": "adc39475-37a4-420c-ae9d-3216dc7a1382",
   "metadata": {},
   "source": [
    "#### 1.2 MySQL数据提取工具extract_data编写"
   ]
  },
  {
   "cell_type": "code",
   "execution_count": 5,
   "id": "a1610f97-896f-47de-be2a-8a0b2949a945",
   "metadata": {},
   "outputs": [],
   "source": [
    "# ✅ 定义结构化参数\n",
    "class ExtractQuerySchema(BaseModel):\n",
    "    sql_query: str = Field(description=\"用于从 MySQL 提取数据的 SQL 查询语句。\")\n",
    "    df_name: str = Field(description=\"指定用于保存结果的 pandas 变量名称（字符串形式）。\")\n",
    "\n",
    "# ✅ 注册为 Agent 工具\n",
    "@tool(args_schema=ExtractQuerySchema)\n",
    "def extract_data(sql_query: str, df_name: str) -> str:\n",
    "    \"\"\"\n",
    "    用于在MySQL数据库中提取一张表到当前Python环境中，注意，本函数只负责数据表的提取，\n",
    "    并不负责数据查询，若需要在MySQL中进行数据查询，请使用sql_inter函数。\n",
    "    同时需要注意，编写外部函数的参数消息时，必须是满足json格式的字符串，\n",
    "    :param sql_query: 字符串形式的SQL查询语句，用于提取MySQL中的某张表。\n",
    "    :param df_name: 将MySQL数据库中提取的表格进行本地保存时的变量名，以字符串形式表示。\n",
    "    :return：表格读取和保存结果\n",
    "    \"\"\"\n",
    "    print(\"正在调用 extract_data 工具运行 SQL 查询...\")\n",
    "    \n",
    "    load_dotenv(override=True)\n",
    "    host = os.getenv('HOST')\n",
    "    user = os.getenv('USER')\n",
    "    mysql_pw = os.getenv('MYSQL_PW')\n",
    "    db = os.getenv('DB_NAME')\n",
    "    port = os.getenv('PORT')\n",
    "\n",
    "    # 创建数据库连接\n",
    "    connection = pymysql.connect(\n",
    "        host=host,\n",
    "        user=user,\n",
    "        passwd=mysql_pw,\n",
    "        db=db,\n",
    "        port=int(port),\n",
    "        charset='utf8'\n",
    "    )\n",
    "\n",
    "    try:\n",
    "        # 执行 SQL 并保存为全局变量\n",
    "        df = pd.read_sql(sql_query, connection)\n",
    "        globals()[df_name] = df\n",
    "        # print(\"数据成功提取并保存为全局变量：\", df_name)\n",
    "        return f\"✅ 成功创建 pandas 对象 `{df_name}`，包含从 MySQL 提取的数据。\"\n",
    "    except Exception as e:\n",
    "        return f\"❌ 执行失败：{e}\"\n",
    "    finally:\n",
    "        connection.close()"
   ]
  },
  {
   "cell_type": "markdown",
   "id": "b6c8e528-7f23-4837-a58c-f35d219f8d8f",
   "metadata": {},
   "source": [
    "### 2. Python代码解释器函数编写"
   ]
  },
  {
   "cell_type": "markdown",
   "id": "cdfd21f1-b79d-4d06-a858-4c108608f2ff",
   "metadata": {},
   "source": [
    "&emsp;&emsp;接下来继续定义Python代码解释器外部工具组。考虑到实际应用情况，这里同样是编写两个外部函数，分别用于执行普通的Python代码（python_inter）以及绘图类的代码（fig_inter）。"
   ]
  },
  {
   "cell_type": "markdown",
   "id": "8191e261-f3d2-43c8-95e6-3f55a09d8c57",
   "metadata": {},
   "source": [
    "#### 2.1 python_inter函数编写"
   ]
  },
  {
   "cell_type": "code",
   "execution_count": 6,
   "id": "2a04e68f-322f-46d0-a373-12e46d351c9e",
   "metadata": {},
   "outputs": [],
   "source": [
    "# Python代码执行工具\n",
    "class PythonCodeInput(BaseModel):\n",
    "    py_code: str = Field(description=\"一段合法的 Python 代码字符串，例如 '2 + 2' 或 'x = 3\\\\ny = x * 2'\")\n",
    "\n",
    "\n",
    "@tool(args_schema=PythonCodeInput)\n",
    "def python_inter(py_code):\n",
    "    \"\"\"\n",
    "    当用户需要编写Python程序并执行时，请调用该函数。\n",
    "    该函数可以执行一段Python代码并返回最终结果，需要注意，本函数只能执行非绘图类的代码，若是绘图相关代码，则需要调用fig_inter函数运行。\n",
    "    \"\"\"    \n",
    "    g = globals()\n",
    "    try:\n",
    "        # 尝试如果是表达式，则返回表达式运行结果\n",
    "        return str(eval(py_code, g))\n",
    "    # 若报错，则先测试是否是对相同变量重复赋值\n",
    "    except Exception as e:\n",
    "        global_vars_before = set(g.keys())\n",
    "        try:            \n",
    "            exec(py_code, g)\n",
    "        except Exception as e:\n",
    "            return f\"代码执行时报错{e}\"\n",
    "        global_vars_after = set(g.keys())\n",
    "        new_vars = global_vars_after - global_vars_before\n",
    "        # 若存在新变量\n",
    "        if new_vars:\n",
    "            result = {var: g[var] for var in new_vars}\n",
    "            # print(\"代码已顺利执行，正在进行结果梳理...\")\n",
    "            return str(result)\n",
    "        else:\n",
    "            # print(\"代码已顺利执行，正在进行结果梳理...\")\n",
    "            return \"已经顺利执行代码\""
   ]
  },
  {
   "cell_type": "markdown",
   "id": "30e4b129-8a36-431f-993a-54e653a8a252",
   "metadata": {},
   "source": [
    "#### 2.2 fig_inter函数编写"
   ]
  },
  {
   "cell_type": "code",
   "execution_count": 8,
   "id": "d15544c1-5438-47a8-a718-98f54e1a8535",
   "metadata": {},
   "outputs": [],
   "source": [
    "class FigCodeInput(BaseModel):\n",
    "    py_code: str = Field(description=\"要执行的 Python 绘图代码，必须使用 matplotlib/seaborn 创建图像并赋值给变量\")\n",
    "    fname: str = Field(description=\"图像对象的变量名，例如 'fig'，用于从代码中提取并保存为图片\")\n",
    "\n",
    "@tool(args_schema=FigCodeInput)\n",
    "def fig_inter(py_code: str, fname: str) -> str:\n",
    "    \"\"\"\n",
    "    当用户需要使用 Python 进行可视化绘图任务时，请调用该函数。\n",
    "    该函数会执行用户提供的 Python 绘图代码，并自动将生成的图像对象保存为图片文件并展示。\n",
    "    \"\"\"\n",
    "    print(\"正在调用fig_inter工具运行Python代码...\")\n",
    "\n",
    "    current_backend = matplotlib.get_backend()\n",
    "    matplotlib.use('Agg')\n",
    "\n",
    "    local_vars = {\"plt\": plt, \"pd\": pd, \"sns\": sns}\n",
    "    \n",
    "    # ✅ 设置图像保存路径（你自己的绝对路径）\n",
    "    base_dir = r\"C:\\Users\\Admin\\Desktop\\LangGraph App\\data_agent\\agent-chat-ui\\public\"\n",
    "    images_dir = os.path.join(base_dir, \"images\")\n",
    "    os.makedirs(images_dir, exist_ok=True)  # ✅ 自动创建 images 文件夹（如不存在）\n",
    "\n",
    "    try:\n",
    "        g = globals()\n",
    "        exec(py_code, g, local_vars)\n",
    "        g.update(local_vars)\n",
    "\n",
    "        fig = local_vars.get(fname, None)\n",
    "        if fig:\n",
    "            image_filename = f\"{fname}.png\"\n",
    "            abs_path = os.path.join(images_dir, image_filename)  # ✅ 绝对路径\n",
    "            rel_path = os.path.join(\"images\", image_filename)    # ✅ 返回相对路径（给前端用）\n",
    "\n",
    "            fig.savefig(abs_path, bbox_inches='tight')\n",
    "            return f\"✅ 图片已保存，路径为: {rel_path}\"\n",
    "        else:\n",
    "            return \"⚠️ 图像对象未找到，请确认变量名正确并为 matplotlib 图对象。\"\n",
    "    except Exception as e:\n",
    "        return f\"❌ 执行失败：{e}\"\n",
    "    finally:\n",
    "        plt.close('all')\n",
    "        matplotlib.use(current_backend)"
   ]
  },
  {
   "cell_type": "markdown",
   "id": "737127c4-bb6b-46a3-a0ca-ecaf5622a765",
   "metadata": {},
   "source": [
    "这里需要注意的是，需要将base_dir修改为自己的项目文件下的agent-chat-ui（前端项目文件）public路径，否则Agent Chat UI将无法识别创建的图片。"
   ]
  },
  {
   "cell_type": "markdown",
   "id": "df200326-52f4-4170-99c8-666c94b85839",
   "metadata": {},
   "source": [
    "### 3. 创建完整Data Agent项目"
   ]
  },
  {
   "cell_type": "markdown",
   "id": "94d01a3f-0e9a-42d2-9156-152c14f6487e",
   "metadata": {},
   "source": [
    "&emsp;&emsp;在定义好了核心外部工具后，接下来即可创建完整的LangGraph项目了。"
   ]
  },
  {
   "cell_type": "markdown",
   "id": "a49490d8-d82f-4be3-b24a-221191a9bfb1",
   "metadata": {},
   "source": [
    "- **Step 1. 创建主函数**"
   ]
  },
  {
   "cell_type": "markdown",
   "id": "b2e73377-fc7d-4528-9064-f75c21061286",
   "metadata": {},
   "source": [
    "&emsp;&emsp;创建项目文件夹，然后创建graph.py文件，并写入如下代码："
   ]
  },
  {
   "cell_type": "markdown",
   "id": "a19a7c1f-26fa-4600-8ef5-59c7610e1bbb",
   "metadata": {},
   "source": [
    "```python\n",
    "import os\n",
    "from dotenv import load_dotenv \n",
    "from langchain_deepseek import ChatDeepSeek\n",
    "from langgraph.prebuilt import create_react_agent\n",
    "from langchain_core.tools import tool\n",
    "from pydantic import BaseModel, Field\n",
    "import matplotlib\n",
    "import json\n",
    "import matplotlib.pyplot as plt\n",
    "import seaborn as sns\n",
    "import pandas as pd\n",
    "import pymysql\n",
    "from langchain_tavily import TavilySearch\n",
    "from langgraph.types import Command, interrupt\n",
    "\n",
    "# 加载环境变量\n",
    "load_dotenv(override=True)\n",
    "\n",
    "# 内置搜索工具\n",
    "search_tool = TavilySearch(max_results=5, topic=\"general\")\n",
    "\n",
    "# 设置人在闭环\n",
    "@tool\n",
    "def human_assistance(query: str) -> str:\n",
    "    \"\"\"Request assistance from a human.\"\"\"\n",
    "    human_response = interrupt({\"query\": query})\n",
    "    return human_response[\"data\"]\n",
    "\n",
    "description = \"\"\"\n",
    "当用户需要进行数据库查询工作时，请调用该函数。\n",
    "该函数用于在指定MySQL服务器上运行一段SQL代码，完成数据查询相关工作，\n",
    "并且当前函数是使用pymsql连接MySQL数据库。\n",
    "本函数只负责运行SQL代码并进行数据查询，若要进行数据提取，则使用另一个extract_data函数。\n",
    "\"\"\"\n",
    "\n",
    "# ✅ 定义结构化参数模型\n",
    "class SQLQuerySchema(BaseModel):\n",
    "    sql_query: str = Field(description=description)\n",
    "\n",
    "# ✅ 封装为 LangGraph 工具\n",
    "@tool(args_schema=SQLQuerySchema)\n",
    "def sql_inter(sql_query: str) -> str:\n",
    "    \"\"\"\n",
    "    当用户需要进行数据库查询工作时，请调用该函数。\n",
    "    该函数用于在指定MySQL服务器上运行一段SQL代码，完成数据查询相关工作，\n",
    "    并且当前函数是使用pymsql连接MySQL数据库。\n",
    "    本函数只负责运行SQL代码并进行数据查询，若要进行数据提取，则使用另一个extract_data函数。\n",
    "    :param sql_query: 字符串形式的SQL查询语句，用于执行对MySQL中telco_db数据库中各张表进行查询，并获得各表中的各类相关信息\n",
    "    :return：sql_query在MySQL中的运行结果。   \n",
    "    \"\"\"\n",
    "    # print(\"正在调用 sql_inter 工具运行 SQL 查询...\")\n",
    "    \n",
    "    # 加载环境变量\n",
    "    load_dotenv(override=True)\n",
    "    host = os.getenv('HOST')\n",
    "    user = os.getenv('USER')\n",
    "    mysql_pw = os.getenv('MYSQL_PW')\n",
    "    db = os.getenv('DB_NAME')\n",
    "    port = os.getenv('PORT')\n",
    "    \n",
    "    # 创建连接\n",
    "    connection = pymysql.connect(\n",
    "        host=host,\n",
    "        user=user,\n",
    "        passwd=mysql_pw,\n",
    "        db=db,\n",
    "        port=int(port),\n",
    "        charset='utf8'\n",
    "    )\n",
    "    \n",
    "    try:\n",
    "        with connection.cursor() as cursor:\n",
    "            cursor.execute(sql_query)\n",
    "            results = cursor.fetchall()\n",
    "            # print(\"SQL 查询已成功执行，正在整理结果...\")\n",
    "    finally:\n",
    "        connection.close()\n",
    "\n",
    "    # 将结果以 JSON 字符串形式返回\n",
    "    return json.dumps(results, ensure_ascii=False)\n",
    "\n",
    "# ✅ 定义结构化参数\n",
    "class ExtractQuerySchema(BaseModel):\n",
    "    sql_query: str = Field(description=\"用于从 MySQL 提取数据的 SQL 查询语句。\")\n",
    "    df_name: str = Field(description=\"指定用于保存结果的 pandas 变量名称（字符串形式）。\")\n",
    "\n",
    "# ✅ 注册为 Agent 工具\n",
    "@tool(args_schema=ExtractQuerySchema)\n",
    "def extract_data(sql_query: str, df_name: str) -> str:\n",
    "    \"\"\"\n",
    "    用于在MySQL数据库中提取一张表到当前Python环境中，注意，本函数只负责数据表的提取，\n",
    "    并不负责数据查询，若需要在MySQL中进行数据查询，请使用sql_inter函数。\n",
    "    同时需要注意，编写外部函数的参数消息时，必须是满足json格式的字符串，\n",
    "    :param sql_query: 字符串形式的SQL查询语句，用于提取MySQL中的某张表。\n",
    "    :param df_name: 将MySQL数据库中提取的表格进行本地保存时的变量名，以字符串形式表示。\n",
    "    :return：表格读取和保存结果\n",
    "    \"\"\"\n",
    "    print(\"正在调用 extract_data 工具运行 SQL 查询...\")\n",
    "    \n",
    "    load_dotenv(override=True)\n",
    "    host = os.getenv('HOST')\n",
    "    user = os.getenv('USER')\n",
    "    mysql_pw = os.getenv('MYSQL_PW')\n",
    "    db = os.getenv('DB_NAME')\n",
    "    port = os.getenv('PORT')\n",
    "\n",
    "    # 创建数据库连接\n",
    "    connection = pymysql.connect(\n",
    "        host=host,\n",
    "        user=user,\n",
    "        passwd=mysql_pw,\n",
    "        db=db,\n",
    "        port=int(port),\n",
    "        charset='utf8'\n",
    "    )\n",
    "\n",
    "    try:\n",
    "        # 执行 SQL 并保存为全局变量\n",
    "        df = pd.read_sql(sql_query, connection)\n",
    "        globals()[df_name] = df\n",
    "        # print(\"数据成功提取并保存为全局变量：\", df_name)\n",
    "        return f\"✅ 成功创建 pandas 对象 `{df_name}`，包含从 MySQL 提取的数据。\"\n",
    "    except Exception as e:\n",
    "        return f\"❌ 执行失败：{e}\"\n",
    "    finally:\n",
    "        connection.close()\n",
    "\n",
    "# Python代码执行工具\n",
    "class PythonCodeInput(BaseModel):\n",
    "    py_code: str = Field(description=\"一段合法的 Python 代码字符串，例如 '2 + 2' 或 'x = 3\\\\ny = x * 2'\")\n",
    "\n",
    "\n",
    "@tool(args_schema=PythonCodeInput)\n",
    "def python_inter(py_code):\n",
    "    \"\"\"\n",
    "    当用户需要编写Python程序并执行时，请调用该函数。\n",
    "    该函数可以执行一段Python代码并返回最终结果，需要注意，本函数只能执行非绘图类的代码，若是绘图相关代码，则需要调用fig_inter函数运行。\n",
    "    \"\"\"    \n",
    "    g = globals()\n",
    "    try:\n",
    "        # 尝试如果是表达式，则返回表达式运行结果\n",
    "        return str(eval(py_code, g))\n",
    "    # 若报错，则先测试是否是对相同变量重复赋值\n",
    "    except Exception as e:\n",
    "        global_vars_before = set(g.keys())\n",
    "        try:            \n",
    "            exec(py_code, g)\n",
    "        except Exception as e:\n",
    "            return f\"代码执行时报错{e}\"\n",
    "        global_vars_after = set(g.keys())\n",
    "        new_vars = global_vars_after - global_vars_before\n",
    "        # 若存在新变量\n",
    "        if new_vars:\n",
    "            result = {var: g[var] for var in new_vars}\n",
    "            # print(\"代码已顺利执行，正在进行结果梳理...\")\n",
    "            return str(result)\n",
    "        else:\n",
    "            # print(\"代码已顺利执行，正在进行结果梳理...\")\n",
    "            return \"已经顺利执行代码\"\n",
    "\n",
    "class FigCodeInput(BaseModel):\n",
    "    py_code: str = Field(description=\"要执行的 Python 绘图代码，必须使用 matplotlib/seaborn 创建图像并赋值给变量\")\n",
    "    fname: str = Field(description=\"图像对象的变量名，例如 'fig'，用于从代码中提取并保存为图片\")\n",
    "\n",
    "@tool(args_schema=FigCodeInput)\n",
    "def fig_inter(py_code: str, fname: str) -> str:\n",
    "    \"\"\"\n",
    "    当用户需要使用 Python 进行可视化绘图任务时，请调用该函数。\n",
    "\n",
    "    注意：\n",
    "    1. 所有绘图代码必须创建一个图像对象，并将其赋值为指定变量名（例如 `fig`）。\n",
    "    2. 必须使用 `fig = plt.figure()` 或 `fig = plt.subplots()`。\n",
    "    3. 不要使用 `plt.show()`。\n",
    "    4. 请确保代码最后调用 `fig.tight_layout()`。\n",
    "    5. 所有绘图代码中，坐标轴标签（xlabel、ylabel）、标题（title）、图例（legend）等文本内容，必须使用英文描述。\n",
    "\n",
    "    示例代码：\n",
    "    fig = plt.figure(figsize=(10,6))\n",
    "    plt.plot([1,2,3], [4,5,6])\n",
    "    fig.tight_layout()\n",
    "    \"\"\"\n",
    "    # print(\"正在调用fig_inter工具运行Python代码...\")\n",
    "\n",
    "    current_backend = matplotlib.get_backend()\n",
    "    matplotlib.use('Agg')\n",
    "\n",
    "    local_vars = {\"plt\": plt, \"pd\": pd, \"sns\": sns}\n",
    "    \n",
    "    # ✅ 设置图像保存路径（你自己的绝对路径）\n",
    "    base_dir = r\"C:\\Users\\Admin\\Desktop\\LangGraph App\\data_agent\\agent-chat-ui\\public\"\n",
    "    images_dir = os.path.join(base_dir, \"images\")\n",
    "    os.makedirs(images_dir, exist_ok=True)  # ✅ 自动创建 images 文件夹（如不存在）\n",
    "\n",
    "    try:\n",
    "        g = globals()\n",
    "        exec(py_code, g, local_vars)\n",
    "        g.update(local_vars)\n",
    "\n",
    "        fig = local_vars.get(fname, None)\n",
    "        if fig:\n",
    "            image_filename = f\"{fname}.png\"\n",
    "            abs_path = os.path.join(images_dir, image_filename)  # ✅ 绝对路径\n",
    "            rel_path = os.path.join(\"images\", image_filename)    # ✅ 返回相对路径（给前端用）\n",
    "\n",
    "            fig.savefig(abs_path, bbox_inches='tight')\n",
    "            return f\"✅ 图片已保存，路径为: {rel_path}\"\n",
    "        else:\n",
    "            return \"⚠️ 图像对象未找到，请确认变量名正确并为 matplotlib 图对象。\"\n",
    "    except Exception as e:\n",
    "        return f\"❌ 执行失败：{e}\"\n",
    "    finally:\n",
    "        plt.close('all')\n",
    "        matplotlib.use(current_backend)\n",
    "\n",
    "# 创建提示词模板\n",
    "prompt = \"\"\"\n",
    "你是一名经验丰富的智能数据分析助手，擅长帮助用户高效完成以下任务：\n",
    "\n",
    "1. **数据库查询：**\n",
    "   - 当用户需要获取数据库中某些数据或进行SQL查询时，请调用`sql_inter`工具，该工具已经内置了pymysql连接MySQL数据库的全部参数，包括数据库名称、用户名、密码、端口等，你只需要根据用户需求生成SQL语句即可。\n",
    "   - 你需要准确根据用户请求生成SQL语句，例如 `SELECT * FROM 表名` 或包含条件的查询。\n",
    "\n",
    "2. **数据表提取：**\n",
    "   - 当用户希望将数据库中的表格导入Python环境进行后续分析时，请调用`extract_data`工具。\n",
    "   - 你需要根据用户提供的表名或查询条件生成SQL查询语句，并将数据保存到指定的pandas变量中。\n",
    "\n",
    "3. **非绘图累任务的Python代码执行：**\n",
    "   - 当用户需要执行Python脚本或进行数据处理、统计计算时，请调用`python_inter`工具。\n",
    "   - 仅限执行非绘图类代码，例如变量定义、数据分析等。\n",
    "\n",
    "4. **绘图类Python代码执行：**\n",
    "   - 当用户需要进行可视化展示（如生成图表、绘制分布等）时，请调用`fig_inter`工具。\n",
    "   - 你可以直接读取数据并进行绘图，不需要借助`python_inter`工具读取图片。\n",
    "   - 你应根据用户需求编写绘图代码，并正确指定绘图对象变量名（如 `fig`）。\n",
    "   - 当你生成Python绘图代码时必须指明图像的名称，如fig = plt.figure()或fig = plt.subplots()创建图像对象，并赋值为fig。\n",
    "   - 不要调用plt.show()，否则图像将无法保存。\n",
    "\n",
    "5. **网络搜索：**\n",
    "   - 当用户提出与数据分析无关的问题（如最新新闻、实时信息），请调用`search_tool`工具。\n",
    "\n",
    "**工具使用优先级：**\n",
    "- 如需数据库数据，请先使用`sql_inter`或`extract_data`获取，再执行Python分析或绘图。\n",
    "- 如需绘图，请先确保数据已加载为pandas对象。\n",
    "\n",
    "**回答要求：**\n",
    "- 所有回答均使用**简体中文**，清晰、礼貌、简洁。\n",
    "- 如果调用工具返回结构化JSON数据，你应提取其中的关键信息简要说明，并展示主要结果。\n",
    "- 若需要用户提供更多信息，请主动提出明确的问题。\n",
    "- 如果有生成的图片文件，请务必在回答中使用Markdown格式插入图片，如：![Categorical Features vs Churn](images/fig.png)\n",
    "- 不要仅输出图片路径文字。\n",
    "\n",
    "**风格：**\n",
    "- 专业、简洁、以数据驱动。\n",
    "- 不要编造不存在的工具或数据。\n",
    "\n",
    "请根据以上原则为用户提供精准、高效的协助。\n",
    "\"\"\"\n",
    "\n",
    "tools = [search_tool, python_inter, fig_inter, sql_inter, extract_data, human_assistance]\n",
    "\n",
    "# 创建模型\n",
    "model = ChatDeepSeek(model=\"deepseek-chat\")\n",
    "\n",
    "# 创建图\n",
    "graph = create_react_agent(model=model, tools=tools, prompt=prompt)\n",
    "```"
   ]
  },
  {
   "cell_type": "markdown",
   "id": "a44f19b6-5359-4278-9735-ec5b7467a2d5",
   "metadata": {},
   "source": [
    "<center><img src=\"https://ml2022.oss-cn-hangzhou.aliyuncs.com/img/202506271713429.png\" alt=\"image-20250627171302339\" style=\"zoom:50%;\" />"
   ]
  },
  {
   "cell_type": "markdown",
   "id": "272ef746-d9f8-4f6d-bbe6-dbbed7943bcc",
   "metadata": {},
   "source": [
    "- **Step 2.创建requirements.txt**"
   ]
  },
  {
   "cell_type": "markdown",
   "id": "3646f690-31e1-4c37-9c0c-877a7fb8e326",
   "metadata": {},
   "source": [
    "&emsp;&emsp;当前项目需要更多依赖，具体依赖如下所示："
   ]
  },
  {
   "cell_type": "markdown",
   "id": "9dc69f6a-c854-4232-8411-f2555130e9a5",
   "metadata": {},
   "source": [
    "```bash\n",
    "langgraph\n",
    "langchain-core\n",
    "langchain-deepseek\n",
    "langchain-tavily\n",
    "python-dotenv\n",
    "langsmith\n",
    "pydantic\n",
    "matplotlib\n",
    "seaborn\n",
    "pandas\n",
    "pymysql\n",
    "scikit-learn\n",
    "```"
   ]
  },
  {
   "cell_type": "markdown",
   "id": "6149bc0b-b04b-4bbf-adbb-7def87a95b16",
   "metadata": {},
   "source": [
    "<center><img src=\"https://ml2022.oss-cn-hangzhou.aliyuncs.com/img/image-20250706212241014.png\" alt=\"image-20250706212241014\" style=\"zoom:50%;\" />"
   ]
  },
  {
   "cell_type": "markdown",
   "id": "39370339-2e5f-4bbb-a5c5-e71900753ddb",
   "metadata": {},
   "source": [
    "然后即可直接安装依赖："
   ]
  },
  {
   "cell_type": "markdown",
   "id": "0d5cbff4-407e-4952-aea6-f2a861dbe020",
   "metadata": {},
   "source": [
    "```bash\n",
    "pip install -r requirements.txt\n",
    "```"
   ]
  },
  {
   "cell_type": "markdown",
   "id": "9968bed8-c26e-426b-89fd-b5bc487d3ede",
   "metadata": {},
   "source": [
    "- **Step 3.编写.env**"
   ]
  },
  {
   "cell_type": "markdown",
   "id": "542f292e-5936-4395-bc4c-449100942ce8",
   "metadata": {},
   "source": [
    "<center><img src=\"https://ml2022.oss-cn-hangzhou.aliyuncs.com/img/image-20250706212722630.png\" alt=\"image-20250706212722630\" style=\"zoom:50%;\" />"
   ]
  },
  {
   "cell_type": "markdown",
   "id": "cc50235a-7db9-4426-a3ce-3fc5e5f05745",
   "metadata": {},
   "source": [
    "<center><img src=\"https://ml2022.oss-cn-hangzhou.aliyuncs.com/img/image-20250706212802166.png\" style=\"zoom:50%;\" />"
   ]
  },
  {
   "cell_type": "markdown",
   "id": "7547e303-e30f-4799-b9f9-7bc8a98b9cbb",
   "metadata": {},
   "source": [
    "需要增加数据库相关字段，并根据本地安装的MySQL进行设置："
   ]
  },
  {
   "cell_type": "markdown",
   "id": "a0f36160-38eb-4e5f-8af9-8e335cfd37df",
   "metadata": {},
   "source": [
    "HOST=localhost      \n",
    "\n",
    "USER=root      \n",
    "\n",
    "MYSQL_PW=**      \n",
    "\n",
    "DB_NAME=**     \n",
    "\n",
    "PORT=3306  "
   ]
  },
  {
   "cell_type": "markdown",
   "id": "254b7d4d-0834-468a-9f8c-c45176fde290",
   "metadata": {},
   "source": [
    "<center><img src=\"https://ml2022.oss-cn-hangzhou.aliyuncs.com/img/image-20250706212405644.png\" alt=\"image-20250706212405644\" style=\"zoom:33%;\" />"
   ]
  },
  {
   "cell_type": "markdown",
   "id": "0068bcf3-79fa-4280-98d2-07a37f05f20f",
   "metadata": {},
   "source": [
    "<center><img src=\"https://ml2022.oss-cn-hangzhou.aliyuncs.com/img/e873ea36c8a2263b2a88a0f86f9481b.png\" alt=\"e873ea36c8a2263b2a88a0f86f9481b\" style=\"zoom:50%;\" />"
   ]
  },
  {
   "cell_type": "markdown",
   "id": "036a0014-61b4-49e8-ae63-6474757edb53",
   "metadata": {},
   "source": [
    "- **Step 4.创建langgraph.json文件**"
   ]
  },
  {
   "cell_type": "markdown",
   "id": "c391e028-4854-482f-bc08-e6b4a7c4190e",
   "metadata": {},
   "source": [
    "```josn\n",
    "{\n",
    "  \"dependencies\": [\"./\"],\n",
    "  \"graphs\": {\n",
    "    \"data_agent\": \"./graph.py:graph\"\n",
    "  },\n",
    "  \"env\": \".env\"\n",
    "}\n",
    "```"
   ]
  },
  {
   "cell_type": "markdown",
   "id": "f711b749-0483-4623-8005-eb76355ac708",
   "metadata": {},
   "source": [
    "这里我们将当前的Agent取名为data_agent:"
   ]
  },
  {
   "cell_type": "markdown",
   "id": "68eede20-f749-4f40-936a-d82923bebf1e",
   "metadata": {},
   "source": [
    "<center><img src=\"https://ml2022.oss-cn-hangzhou.aliyuncs.com/img/202506271722916.png\" alt=\"image-20250627172238826\" style=\"zoom:50%;\" />"
   ]
  },
  {
   "cell_type": "markdown",
   "id": "d8facd14-96f8-4ce0-b320-a090c91fe729",
   "metadata": {},
   "source": [
    "- **Step 5.开启后端服务**"
   ]
  },
  {
   "cell_type": "markdown",
   "id": "b4676e9e-5716-4968-b358-f36098a01c2b",
   "metadata": {},
   "source": [
    "&emsp;&emsp;然后即可开启后端服务："
   ]
  },
  {
   "cell_type": "markdown",
   "id": "833994e4-dc6b-4415-870a-84af0feda05f",
   "metadata": {},
   "source": [
    "```bash\n",
    "langgraph dev\n",
    "```"
   ]
  },
  {
   "cell_type": "markdown",
   "id": "c8eed751-a0c4-43b8-869b-8a8bd25dfb44",
   "metadata": {},
   "source": [
    "<center><img src=\"https://ml2022.oss-cn-hangzhou.aliyuncs.com/img/202506271736107.png\" alt=\"image-20250627173627014\" style=\"zoom:50%;\" />"
   ]
  },
  {
   "cell_type": "markdown",
   "id": "17e8d64c-62a2-4923-a80d-139bbf921c3c",
   "metadata": {},
   "source": [
    "然后即可在LanguageGraph Studio中进行功能测试："
   ]
  },
  {
   "cell_type": "code",
   "execution_count": 10,
   "id": "25e17f07-ad4a-4f4d-86e1-b52d5f7a297a",
   "metadata": {},
   "outputs": [
    {
     "data": {
      "text/html": [
       "<video src=\"https://ml2022.oss-cn-hangzhou.aliyuncs.com/2025-06-27%2017-30-09.mp4\" controls  width=\"800\"  height=\"400\">\n",
       "      Your browser does not support the <code>video</code> element.\n",
       "    </video>"
      ],
      "text/plain": [
       "<IPython.core.display.Video object>"
      ]
     },
     "execution_count": 10,
     "metadata": {},
     "output_type": "execute_result"
    }
   ],
   "source": [
    "Video(\"https://ml2022.oss-cn-hangzhou.aliyuncs.com/2025-06-27%2017-30-09.mp4\", width=800, height=400)"
   ]
  },
  {
   "cell_type": "markdown",
   "id": "899d1880-6133-4479-b9e2-79e3ca620221",
   "metadata": {},
   "source": [
    "完整项目代码已上传至百度网盘，扫码即可领取："
   ]
  },
  {
   "cell_type": "markdown",
   "id": "9d9efa00-dcb3-49ce-8429-8b8455c15059",
   "metadata": {},
   "source": [
    "<center><img src=\"https://ml2022.oss-cn-hangzhou.aliyuncs.com/img/image-20250626202813082.png\" alt=\"image-20250626202813082\" style=\"zoom:50%;\" />"
   ]
  },
  {
   "cell_type": "markdown",
   "id": "cf75a026-881d-4f3d-9707-3cea81fe8c6b",
   "metadata": {},
   "source": [
    "<center><img src=\"https://ml2022.oss-cn-hangzhou.aliyuncs.com/img/e873ea36c8a2263b2a88a0f86f9481b.png\" alt=\"e873ea36c8a2263b2a88a0f86f9481b\" style=\"zoom:50%;\" />"
   ]
  },
  {
   "cell_type": "markdown",
   "id": "d2bd1bba-4a90-41db-ae25-3b3d4cc3d9f3",
   "metadata": {},
   "source": [
    "- **Step 6.开启前端服务**"
   ]
  },
  {
   "cell_type": "markdown",
   "id": "f6a617a4-c4b7-4ab0-a213-4813c472938e",
   "metadata": {},
   "source": [
    "&emsp;&emsp;接下来可以复用前端的服务，但更推荐围绕当前项目单独再下载一个前端模板并进行运行："
   ]
  },
  {
   "cell_type": "markdown",
   "id": "0b566aa9-7df7-42a5-9b75-ffeba23078df",
   "metadata": {},
   "source": [
    "```bash\n",
    "# git config --global http.proxy http://127.0.0.1:10080\n",
    "# git config --global https.proxy http://127.0.0.1:10080\n",
    "\n",
    "# set HTTP_PROXY=http://127.0.0.1:10080\n",
    "# set HTTPS_PROXY=http://127.0.0.1:10080\n",
    "\n",
    "git clone https://github.com/langchain-ai/agent-chat-ui.git\n",
    "cd agent-chat-ui\n",
    "pnpm install\n",
    "pnpm dev\n",
    "```"
   ]
  },
  {
   "cell_type": "markdown",
   "id": "43abd595-9d5a-4855-8a10-93bd924d02a1",
   "metadata": {},
   "source": [
    "<center><img src=\"https://ml2022.oss-cn-hangzhou.aliyuncs.com/img/202506271742557.png\" alt=\"image-20250627174248460\" style=\"zoom:50%;\" />"
   ]
  },
  {
   "cell_type": "markdown",
   "id": "a7cf5be9-20ea-4418-87f4-5b34957f219f",
   "metadata": {},
   "source": [
    "然后即可登录并进行测试，这里需要写清楚Agent名称，并可选输入LangSmith的API Key："
   ]
  },
  {
   "cell_type": "markdown",
   "id": "e6066ec9-8646-4e3c-8ac0-330803eccee4",
   "metadata": {},
   "source": [
    "<center><img src=\"https://ml2022.oss-cn-hangzhou.aliyuncs.com/img/202506271743061.png\" alt=\"image-20250627174347992\" style=\"zoom:50%;\" />"
   ]
  },
  {
   "cell_type": "markdown",
   "id": "2817b2d7-ebd0-4a1d-832b-cc789fac675b",
   "metadata": {},
   "source": [
    "然后即可开始进行对话："
   ]
  },
  {
   "cell_type": "markdown",
   "id": "8c299490-373d-44d7-b1a0-34abd101d46d",
   "metadata": {},
   "source": [
    "- 请帮我查询当前数据库中总共有几张表"
   ]
  },
  {
   "cell_type": "markdown",
   "id": "6e365ff0-1347-4ec9-a5f0-552f34ba65a4",
   "metadata": {},
   "source": [
    "<center><img src=\"https://ml2022.oss-cn-hangzhou.aliyuncs.com/img/image-20250626202010264.png\" alt=\"image-20250626202010264\" style=\"zoom:50%;\" />"
   ]
  },
  {
   "cell_type": "markdown",
   "id": "7ef1336f-b901-4d80-a046-96743b205796",
   "metadata": {},
   "source": [
    "- 请帮我用Python代码模拟数据并绘制核密度分布图"
   ]
  },
  {
   "cell_type": "markdown",
   "id": "3dce367f-c77a-474b-892a-b16a46ca41fb",
   "metadata": {},
   "source": [
    "<center><img src=\"https://ml2022.oss-cn-hangzhou.aliyuncs.com/img/a0568ab30347b89dd5fb4addbe2d0f8.png\" alt=\"a0568ab30347b89dd5fb4addbe2d0f8\" style=\"zoom:50%;\" />"
   ]
  },
  {
   "cell_type": "markdown",
   "id": "008744a0-7d08-422a-a606-c9cf9bdc3fe1",
   "metadata": {},
   "source": [
    "### 4. Data Agent实际功能测试"
   ]
  },
  {
   "cell_type": "markdown",
   "id": "0bfbde51-54d4-468e-93c9-f4ddabcda32c",
   "metadata": {},
   "source": [
    "- 你好，好久不见，请介绍下你自己\n",
    "- 请帮我查询，数据库中总共有几张表\n",
    "- 请问数据库中这些表都分别由多少数据"
   ]
  },
  {
   "cell_type": "code",
   "execution_count": 11,
   "id": "197d1773-0f8b-4166-b779-ca6141fca42b",
   "metadata": {},
   "outputs": [
    {
     "data": {
      "text/html": [
       "<video src=\"https://ml2022.oss-cn-hangzhou.aliyuncs.com/2025-06-27%2017-44-49.mp4\" controls  width=\"800\"  height=\"400\">\n",
       "      Your browser does not support the <code>video</code> element.\n",
       "    </video>"
      ],
      "text/plain": [
       "<IPython.core.display.Video object>"
      ]
     },
     "execution_count": 11,
     "metadata": {},
     "output_type": "execute_result"
    }
   ],
   "source": [
    "Video(\"https://ml2022.oss-cn-hangzhou.aliyuncs.com/2025-06-27%2017-44-49.mp4\", width=800, height=400)"
   ]
  },
  {
   "cell_type": "markdown",
   "id": "d05224f2-e9c4-4bae-a5c5-3a3c09bbda15",
   "metadata": {},
   "source": [
    "<center><img src=\"https://ml2022.oss-cn-hangzhou.aliyuncs.com/img/202506271751914.png\" alt=\"image-20250627175113876\" style=\"zoom:50%;\" />"
   ]
  },
  {
   "cell_type": "markdown",
   "id": "87b37198-a16d-412d-a664-d10e3db0d348",
   "metadata": {},
   "source": [
    "- 目前我的主目录下有一个名叫telco_data.csv的数据集，这个数据集是Kaggle上非常有名的电信用户流式预测数据集，请你帮我上网搜索这个数据集的相关信息，接下来我们需要一起围绕这个数据集进行数据分析工作。"
   ]
  },
  {
   "cell_type": "code",
   "execution_count": 3,
   "id": "f9304a86-cb86-4432-884a-1307fef9ca5c",
   "metadata": {},
   "outputs": [
    {
     "data": {
      "text/html": [
       "<video src=\"https://ml2022.oss-cn-hangzhou.aliyuncs.com/2025-06-27%2018-58-32.mp4\" controls  width=\"800\"  height=\"400\">\n",
       "      Your browser does not support the <code>video</code> element.\n",
       "    </video>"
      ],
      "text/plain": [
       "<IPython.core.display.Video object>"
      ]
     },
     "execution_count": 3,
     "metadata": {},
     "output_type": "execute_result"
    }
   ],
   "source": [
    "Video(\"https://ml2022.oss-cn-hangzhou.aliyuncs.com/2025-06-27%2018-58-32.mp4\", width=800, height=400)"
   ]
  },
  {
   "cell_type": "markdown",
   "id": "f740c8a3-6b0a-4d56-bc43-101b8d30e849",
   "metadata": {},
   "source": [
    "- 目前我的主目录下有一个名叫telco_data.csv的数据集，请帮我绘制一张热力图，来展示除customerID、MonthlyCharges、TotalCharges字段外，其他离散字段和标签之间的关联关系。"
   ]
  },
  {
   "cell_type": "code",
   "execution_count": 4,
   "id": "06ccf9d8-1c95-4b68-948b-54a7a892af69",
   "metadata": {},
   "outputs": [
    {
     "data": {
      "text/html": [
       "<video src=\"https://ml2022.oss-cn-hangzhou.aliyuncs.com/2025-06-27%2019-11-41.mp4\" controls  width=\"800\"  height=\"400\">\n",
       "      Your browser does not support the <code>video</code> element.\n",
       "    </video>"
      ],
      "text/plain": [
       "<IPython.core.display.Video object>"
      ]
     },
     "execution_count": 4,
     "metadata": {},
     "output_type": "execute_result"
    }
   ],
   "source": [
    "Video(\"https://ml2022.oss-cn-hangzhou.aliyuncs.com/2025-06-27%2019-11-41.mp4\", width=800, height=400)"
   ]
  },
  {
   "cell_type": "code",
   "execution_count": 5,
   "id": "39b0e610-5019-4de8-b654-390a9e61b8b9",
   "metadata": {},
   "outputs": [
    {
     "data": {
      "text/html": [
       "<video src=\"https://ml2022.oss-cn-hangzhou.aliyuncs.com/2025-06-27%2019-14-41.mp4\" controls  width=\"800\"  height=\"400\">\n",
       "      Your browser does not support the <code>video</code> element.\n",
       "    </video>"
      ],
      "text/plain": [
       "<IPython.core.display.Video object>"
      ]
     },
     "execution_count": 5,
     "metadata": {},
     "output_type": "execute_result"
    }
   ],
   "source": [
    "Video(\"https://ml2022.oss-cn-hangzhou.aliyuncs.com/2025-06-27%2019-14-41.mp4\", width=800, height=400)"
   ]
  }
 ],
 "metadata": {
  "kernelspec": {
   "display_name": "Python 3 (ipykernel)",
   "language": "python",
   "name": "python3"
  },
  "language_info": {
   "codemirror_mode": {
    "name": "ipython",
    "version": 3
   },
   "file_extension": ".py",
   "mimetype": "text/x-python",
   "name": "python",
   "nbconvert_exporter": "python",
   "pygments_lexer": "ipython3",
   "version": "3.12.4"
  }
 },
 "nbformat": 4,
 "nbformat_minor": 5
}
